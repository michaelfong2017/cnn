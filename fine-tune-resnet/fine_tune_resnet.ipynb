{
 "cells": [
  {
   "cell_type": "code",
   "execution_count": 2,
   "metadata": {
    "scrolled": true
   },
   "outputs": [
    {
     "name": "stdout",
     "output_type": "stream",
     "text": [
      "Requirement already satisfied: tensorflow==2.2.0 in c:\\users\\user\\anaconda3\\envs\\cnn_env\\lib\\site-packages (2.2.0)\n",
      "Requirement already satisfied: grpcio>=1.8.6 in c:\\users\\user\\anaconda3\\envs\\cnn_env\\lib\\site-packages (from tensorflow==2.2.0) (1.36.1)\n",
      "Requirement already satisfied: scipy==1.4.1 in c:\\users\\user\\anaconda3\\envs\\cnn_env\\lib\\site-packages (from tensorflow==2.2.0) (1.4.1)\n",
      "Requirement already satisfied: protobuf>=3.8.0 in c:\\users\\user\\anaconda3\\envs\\cnn_env\\lib\\site-packages (from tensorflow==2.2.0) (3.15.6)\n",
      "Requirement already satisfied: astunparse==1.6.3 in c:\\users\\user\\anaconda3\\envs\\cnn_env\\lib\\site-packages (from tensorflow==2.2.0) (1.6.3)\n",
      "Requirement already satisfied: numpy<2.0,>=1.16.0 in c:\\users\\user\\anaconda3\\envs\\cnn_env\\lib\\site-packages (from tensorflow==2.2.0) (1.20.1)\n",
      "Requirement already satisfied: opt-einsum>=2.3.2 in c:\\users\\user\\anaconda3\\envs\\cnn_env\\lib\\site-packages (from tensorflow==2.2.0) (3.3.0)\n",
      "Requirement already satisfied: wheel>=0.26 in c:\\users\\user\\anaconda3\\envs\\cnn_env\\lib\\site-packages (from tensorflow==2.2.0) (0.36.2)\n",
      "Requirement already satisfied: wrapt>=1.11.1 in c:\\users\\user\\anaconda3\\envs\\cnn_env\\lib\\site-packages (from tensorflow==2.2.0) (1.12.1)\n",
      "Requirement already satisfied: keras-preprocessing>=1.1.0 in c:\\users\\user\\anaconda3\\envs\\cnn_env\\lib\\site-packages (from tensorflow==2.2.0) (1.1.2)\n",
      "Requirement already satisfied: six>=1.12.0 in c:\\users\\user\\anaconda3\\envs\\cnn_env\\lib\\site-packages (from tensorflow==2.2.0) (1.15.0)\n",
      "Requirement already satisfied: termcolor>=1.1.0 in c:\\users\\user\\anaconda3\\envs\\cnn_env\\lib\\site-packages (from tensorflow==2.2.0) (1.1.0)\n",
      "Requirement already satisfied: gast==0.3.3 in c:\\users\\user\\anaconda3\\envs\\cnn_env\\lib\\site-packages (from tensorflow==2.2.0) (0.3.3)\n",
      "Requirement already satisfied: tensorflow-estimator<2.3.0,>=2.2.0 in c:\\users\\user\\anaconda3\\envs\\cnn_env\\lib\\site-packages (from tensorflow==2.2.0) (2.2.0)\n",
      "Requirement already satisfied: tensorboard<2.3.0,>=2.2.0 in c:\\users\\user\\anaconda3\\envs\\cnn_env\\lib\\site-packages (from tensorflow==2.2.0) (2.2.2)\n",
      "Requirement already satisfied: absl-py>=0.7.0 in c:\\users\\user\\anaconda3\\envs\\cnn_env\\lib\\site-packages (from tensorflow==2.2.0) (0.12.0)\n",
      "Requirement already satisfied: google-pasta>=0.1.8 in c:\\users\\user\\anaconda3\\envs\\cnn_env\\lib\\site-packages (from tensorflow==2.2.0) (0.2.0)\n",
      "Requirement already satisfied: h5py<2.11.0,>=2.10.0 in c:\\users\\user\\anaconda3\\envs\\cnn_env\\lib\\site-packages (from tensorflow==2.2.0) (2.10.0)\n",
      "Requirement already satisfied: google-auth-oauthlib<0.5,>=0.4.1 in c:\\users\\user\\anaconda3\\envs\\cnn_env\\lib\\site-packages (from tensorboard<2.3.0,>=2.2.0->tensorflow==2.2.0) (0.4.3)\n",
      "Requirement already satisfied: tensorboard-plugin-wit>=1.6.0 in c:\\users\\user\\anaconda3\\envs\\cnn_env\\lib\\site-packages (from tensorboard<2.3.0,>=2.2.0->tensorflow==2.2.0) (1.8.0)\n",
      "Requirement already satisfied: google-auth<2,>=1.6.3 in c:\\users\\user\\anaconda3\\envs\\cnn_env\\lib\\site-packages (from tensorboard<2.3.0,>=2.2.0->tensorflow==2.2.0) (1.27.1)\n",
      "Requirement already satisfied: requests<3,>=2.21.0 in c:\\users\\user\\anaconda3\\envs\\cnn_env\\lib\\site-packages (from tensorboard<2.3.0,>=2.2.0->tensorflow==2.2.0) (2.25.1)\n",
      "Requirement already satisfied: setuptools>=41.0.0 in c:\\users\\user\\anaconda3\\envs\\cnn_env\\lib\\site-packages (from tensorboard<2.3.0,>=2.2.0->tensorflow==2.2.0) (52.0.0.post20210125)\n",
      "Requirement already satisfied: werkzeug>=0.11.15 in c:\\users\\user\\anaconda3\\envs\\cnn_env\\lib\\site-packages (from tensorboard<2.3.0,>=2.2.0->tensorflow==2.2.0) (1.0.1)\n",
      "Requirement already satisfied: markdown>=2.6.8 in c:\\users\\user\\anaconda3\\envs\\cnn_env\\lib\\site-packages (from tensorboard<2.3.0,>=2.2.0->tensorflow==2.2.0) (3.3.4)\n",
      "Requirement already satisfied: cachetools<5.0,>=2.0.0 in c:\\users\\user\\anaconda3\\envs\\cnn_env\\lib\\site-packages (from google-auth<2,>=1.6.3->tensorboard<2.3.0,>=2.2.0->tensorflow==2.2.0) (4.2.1)\n",
      "Requirement already satisfied: pyasn1-modules>=0.2.1 in c:\\users\\user\\anaconda3\\envs\\cnn_env\\lib\\site-packages (from google-auth<2,>=1.6.3->tensorboard<2.3.0,>=2.2.0->tensorflow==2.2.0) (0.2.8)\n",
      "Requirement already satisfied: rsa<5,>=3.1.4 in c:\\users\\user\\anaconda3\\envs\\cnn_env\\lib\\site-packages (from google-auth<2,>=1.6.3->tensorboard<2.3.0,>=2.2.0->tensorflow==2.2.0) (4.7.2)\n",
      "Requirement already satisfied: requests-oauthlib>=0.7.0 in c:\\users\\user\\anaconda3\\envs\\cnn_env\\lib\\site-packages (from google-auth-oauthlib<0.5,>=0.4.1->tensorboard<2.3.0,>=2.2.0->tensorflow==2.2.0) (1.3.0)\n",
      "Requirement already satisfied: importlib-metadata in c:\\users\\user\\anaconda3\\envs\\cnn_env\\lib\\site-packages (from markdown>=2.6.8->tensorboard<2.3.0,>=2.2.0->tensorflow==2.2.0) (3.7.2)\n",
      "Requirement already satisfied: pyasn1<0.5.0,>=0.4.6 in c:\\users\\user\\anaconda3\\envs\\cnn_env\\lib\\site-packages (from pyasn1-modules>=0.2.1->google-auth<2,>=1.6.3->tensorboard<2.3.0,>=2.2.0->tensorflow==2.2.0) (0.4.8)\n",
      "Requirement already satisfied: certifi>=2017.4.17 in c:\\users\\user\\anaconda3\\envs\\cnn_env\\lib\\site-packages (from requests<3,>=2.21.0->tensorboard<2.3.0,>=2.2.0->tensorflow==2.2.0) (2020.12.5)\n",
      "Requirement already satisfied: urllib3<1.27,>=1.21.1 in c:\\users\\user\\anaconda3\\envs\\cnn_env\\lib\\site-packages (from requests<3,>=2.21.0->tensorboard<2.3.0,>=2.2.0->tensorflow==2.2.0) (1.26.3)\n",
      "Requirement already satisfied: idna<3,>=2.5 in c:\\users\\user\\anaconda3\\envs\\cnn_env\\lib\\site-packages (from requests<3,>=2.21.0->tensorboard<2.3.0,>=2.2.0->tensorflow==2.2.0) (2.10)\n",
      "Requirement already satisfied: chardet<5,>=3.0.2 in c:\\users\\user\\anaconda3\\envs\\cnn_env\\lib\\site-packages (from requests<3,>=2.21.0->tensorboard<2.3.0,>=2.2.0->tensorflow==2.2.0) (4.0.0)\n",
      "Requirement already satisfied: oauthlib>=3.0.0 in c:\\users\\user\\anaconda3\\envs\\cnn_env\\lib\\site-packages (from requests-oauthlib>=0.7.0->google-auth-oauthlib<0.5,>=0.4.1->tensorboard<2.3.0,>=2.2.0->tensorflow==2.2.0) (3.1.0)\n",
      "Requirement already satisfied: zipp>=0.5 in c:\\users\\user\\anaconda3\\envs\\cnn_env\\lib\\site-packages (from importlib-metadata->markdown>=2.6.8->tensorboard<2.3.0,>=2.2.0->tensorflow==2.2.0) (3.4.1)\n",
      "Requirement already satisfied: typing-extensions>=3.6.4 in c:\\users\\user\\anaconda3\\envs\\cnn_env\\lib\\site-packages (from importlib-metadata->markdown>=2.6.8->tensorboard<2.3.0,>=2.2.0->tensorflow==2.2.0) (3.7.4.3)\n",
      "Note: you may need to restart the kernel to use updated packages.\n",
      "Requirement already satisfied: scikit-learn in c:\\users\\user\\anaconda3\\envs\\cnn_env\\lib\\site-packages (0.24.1)\n",
      "Requirement already satisfied: joblib>=0.11 in c:\\users\\user\\anaconda3\\envs\\cnn_env\\lib\\site-packages (from scikit-learn) (1.0.1)\n",
      "Requirement already satisfied: threadpoolctl>=2.0.0 in c:\\users\\user\\anaconda3\\envs\\cnn_env\\lib\\site-packages (from scikit-learn) (2.1.0)\n",
      "Requirement already satisfied: numpy>=1.13.3 in c:\\users\\user\\anaconda3\\envs\\cnn_env\\lib\\site-packages (from scikit-learn) (1.20.1)\n",
      "Requirement already satisfied: scipy>=0.19.1 in c:\\users\\user\\anaconda3\\envs\\cnn_env\\lib\\site-packages (from scikit-learn) (1.4.1)\n",
      "Note: you may need to restart the kernel to use updated packages.\n",
      "Requirement already satisfied: matplotlib in c:\\users\\user\\anaconda3\\envs\\cnn_env\\lib\\site-packages (3.3.4)\n",
      "Requirement already satisfied: pillow>=6.2.0 in c:\\users\\user\\anaconda3\\envs\\cnn_env\\lib\\site-packages (from matplotlib) (8.1.2)\n",
      "Requirement already satisfied: numpy>=1.15 in c:\\users\\user\\anaconda3\\envs\\cnn_env\\lib\\site-packages (from matplotlib) (1.20.1)\n",
      "Requirement already satisfied: pyparsing!=2.0.4,!=2.1.2,!=2.1.6,>=2.0.3 in c:\\users\\user\\anaconda3\\envs\\cnn_env\\lib\\site-packages (from matplotlib) (2.4.7)\n",
      "Requirement already satisfied: kiwisolver>=1.0.1 in c:\\users\\user\\anaconda3\\envs\\cnn_env\\lib\\site-packages (from matplotlib) (1.3.1)\n",
      "Requirement already satisfied: cycler>=0.10 in c:\\users\\user\\anaconda3\\envs\\cnn_env\\lib\\site-packages (from matplotlib) (0.10.0)\n",
      "Requirement already satisfied: python-dateutil>=2.1 in c:\\users\\user\\anaconda3\\envs\\cnn_env\\lib\\site-packages (from matplotlib) (2.8.1)\n",
      "Requirement already satisfied: six in c:\\users\\user\\anaconda3\\envs\\cnn_env\\lib\\site-packages (from cycler>=0.10->matplotlib) (1.15.0)\n",
      "Note: you may need to restart the kernel to use updated packages.\n",
      "Requirement already satisfied: imutils in c:\\users\\user\\anaconda3\\envs\\cnn_env\\lib\\site-packages (0.5.4)\n",
      "Note: you may need to restart the kernel to use updated packages.\n"
     ]
    },
    {
     "name": "stdout",
     "output_type": "stream",
     "text": [
      "Requirement already satisfied: opencv-python in c:\\users\\user\\anaconda3\\envs\\cnn_env\\lib\\site-packages (4.5.1.48)\n",
      "Requirement already satisfied: numpy>=1.14.5 in c:\\users\\user\\anaconda3\\envs\\cnn_env\\lib\\site-packages (from opencv-python) (1.20.1)\n",
      "Note: you may need to restart the kernel to use updated packages.\n",
      "Requirement already satisfied: wget in c:\\users\\user\\anaconda3\\envs\\cnn_env\\lib\\site-packages (3.2)\n",
      "Note: you may need to restart the kernel to use updated packages.\n",
      "Requirement already satisfied: kaggle in c:\\users\\user\\anaconda3\\envs\\cnn_env\\lib\\site-packages (1.5.10)\n",
      "Requirement already satisfied: urllib3 in c:\\users\\user\\anaconda3\\envs\\cnn_env\\lib\\site-packages (from kaggle) (1.26.3)\n",
      "Requirement already satisfied: six>=1.10 in c:\\users\\user\\anaconda3\\envs\\cnn_env\\lib\\site-packages (from kaggle) (1.15.0)\n",
      "Requirement already satisfied: python-slugify in c:\\users\\user\\anaconda3\\envs\\cnn_env\\lib\\site-packages (from kaggle) (4.0.1)\n",
      "Requirement already satisfied: certifi in c:\\users\\user\\anaconda3\\envs\\cnn_env\\lib\\site-packages (from kaggle) (2020.12.5)\n",
      "Requirement already satisfied: python-dateutil in c:\\users\\user\\anaconda3\\envs\\cnn_env\\lib\\site-packages (from kaggle) (2.8.1)\n",
      "Requirement already satisfied: tqdm in c:\\users\\user\\anaconda3\\envs\\cnn_env\\lib\\site-packages (from kaggle) (4.59.0)\n",
      "Requirement already satisfied: requests in c:\\users\\user\\anaconda3\\envs\\cnn_env\\lib\\site-packages (from kaggle) (2.25.1)\n",
      "Requirement already satisfied: text-unidecode>=1.3 in c:\\users\\user\\anaconda3\\envs\\cnn_env\\lib\\site-packages (from python-slugify->kaggle) (1.3)\n",
      "Requirement already satisfied: idna<3,>=2.5 in c:\\users\\user\\anaconda3\\envs\\cnn_env\\lib\\site-packages (from requests->kaggle) (2.10)\n",
      "Requirement already satisfied: chardet<5,>=3.0.2 in c:\\users\\user\\anaconda3\\envs\\cnn_env\\lib\\site-packages (from requests->kaggle) (4.0.0)\n",
      "Note: you may need to restart the kernel to use updated packages.\n"
     ]
    }
   ],
   "source": [
    "%pip install tensorflow==2.2.0\n",
    "%pip install scikit-learn\n",
    "%pip install matplotlib\n",
    "%pip install imutils\n",
    "%pip install opencv-python\n",
    "%pip install wget\n",
    "%pip install kaggle"
   ]
  },
  {
   "cell_type": "code",
   "execution_count": 3,
   "metadata": {
    "scrolled": true
   },
   "outputs": [
    {
     "name": "stdout",
     "output_type": "stream",
     "text": [
      "100% [........................................................................] 93427475 / 93427475"
     ]
    }
   ],
   "source": [
    "import wget\n",
    "url = 'https://s3-us-west-2.amazonaws.com/static.pyimagesearch.com/keras-fine-tune-resnet/fine-tune-resnet.zip'\n",
    "filename = wget.download(url, './') # second argument is the directory to save, default is \".\"\n",
    "from zipfile import ZipFile\n",
    "with ZipFile(filename, 'r') as zip_ref:\n",
    "    zip_ref.extractall('.') # argument is the directory to extract_to, default is \".\""
   ]
  },
  {
   "cell_type": "code",
   "execution_count": 4,
   "metadata": {},
   "outputs": [
    {
     "name": "stdout",
     "output_type": "stream",
     "text": [
      "C:\\Users\\User\\Documents\\cnn\\fine-tune-resnet\\fine-tune-resnet\n"
     ]
    }
   ],
   "source": [
    "%cd fine-tune-resnet"
   ]
  },
  {
   "cell_type": "code",
   "execution_count": 5,
   "metadata": {},
   "outputs": [],
   "source": [
    "import kaggle\n",
    "kaggle.api.authenticate()\n",
    "kaggle.api.dataset_download_files('imneonizer/normal-vs-camouflage-clothes')"
   ]
  },
  {
   "cell_type": "code",
   "execution_count": 6,
   "metadata": {},
   "outputs": [],
   "source": [
    "from zipfile import ZipFile\n",
    "with ZipFile('normal-vs-camouflage-clothes.zip', 'r') as zip_ref:\n",
    "    zip_ref.extractall('.')"
   ]
  },
  {
   "cell_type": "code",
   "execution_count": 7,
   "metadata": {},
   "outputs": [],
   "source": [
    "# import the necessary packages\n",
    "from tensorflow.keras.preprocessing.image import ImageDataGenerator\n",
    "from tensorflow.keras.layers import AveragePooling2D\n",
    "from tensorflow.keras.layers import Dropout\n",
    "from tensorflow.keras.layers import Flatten\n",
    "from tensorflow.keras.layers import Dense\n",
    "from tensorflow.keras.layers import Input\n",
    "from tensorflow.keras.models import Model, load_model\n",
    "from tensorflow.keras.optimizers import Adam\n",
    "from tensorflow.keras.applications import ResNet50\n",
    "from tensorflow.keras.callbacks import ModelCheckpoint\n",
    "from sklearn.metrics import classification_report\n",
    "from matplotlib import pyplot as plt\n",
    "from imutils import paths\n",
    "import numpy as np\n",
    "import argparse\n",
    "import random\n",
    "import shutil\n",
    "import os\n",
    "import pickle"
   ]
  },
  {
   "cell_type": "code",
   "execution_count": 8,
   "metadata": {},
   "outputs": [],
   "source": [
    "def plt_imshow(title, image):\n",
    "\t# convert the image frame BGR to RGB color space and display it\n",
    "\timage = cv2.cvtColor(image, cv2.COLOR_BGR2RGB)\n",
    "\tplt.imshow(image)\n",
    "\tplt.title(title)\n",
    "\tplt.grid(False)\n",
    "\tplt.show()"
   ]
  },
  {
   "cell_type": "code",
   "execution_count": 9,
   "metadata": {},
   "outputs": [],
   "source": [
    "class Config:\n",
    "    # initialize the path to the *original* input directory of images\n",
    "    ORIG_INPUT_DATASET = \"8k_normal_vs_camouflage_clothes_images\"\n",
    "\n",
    "    # initialize the base path to the *new* directory that will contain\n",
    "    # our images after computing the training and testing split\n",
    "    BASE_PATH = \"camo_not_camo\"\n",
    "\n",
    "    # derive the training, validation, and testing directories\n",
    "    TRAIN_PATH = os.path.sep.join([BASE_PATH, \"training\"])\n",
    "    VAL_PATH = os.path.sep.join([BASE_PATH, \"validation\"])\n",
    "    TEST_PATH = os.path.sep.join([BASE_PATH, \"testing\"])\n",
    "\n",
    "    # define the amount of data that will be used training\n",
    "    TRAIN_SPLIT = 0.75\n",
    "\n",
    "    # the amount of validation data will be a percentage of the\n",
    "    # *training* data\n",
    "    VAL_SPLIT = 0.1\n",
    "\n",
    "    # define the names of the classes\n",
    "    CLASSES = [\"camouflage_clothes\", \"normal_clothes\"]\n",
    "\n",
    "    # initialize the initial learning rate, batch size, and number of\n",
    "    # epochs to train for\n",
    "    INIT_LR = 1e-4\n",
    "    BS = 32\n",
    "    NUM_EPOCHS = 20\n",
    "\n",
    "    # define the path to checkpoints\n",
    "    CHECKPOINT_PATH = os.path.sep.join([\"output\", \"checkpoint\"])\n",
    "    \n",
    "    # define the path to the serialized output model after training\n",
    "    MODEL_PATH = os.path.sep.join([\"output\", \"model\"])\n",
    "    \n",
    "    # define the path to training history\n",
    "    HISTORY_PATH = os.path.sep.join([\"output\", \"history\"])\n",
    "\n",
    "# instantiate a Config object\n",
    "config = Config()"
   ]
  },
  {
   "cell_type": "code",
   "execution_count": 10,
   "metadata": {},
   "outputs": [],
   "source": [
    "# grab the paths to all input images in the original input directory\n",
    "# and shuffle them\n",
    "imagePaths = list(paths.list_images(config.ORIG_INPUT_DATASET))\n",
    "random.seed(42)\n",
    "random.shuffle(imagePaths)\n",
    "\n",
    "# compute the training and testing split\n",
    "i = int(len(imagePaths) * config.TRAIN_SPLIT)\n",
    "trainPaths = imagePaths[:i]\n",
    "testPaths = imagePaths[i:]\n",
    "\n",
    "# we'll be using part of the training data for validation\n",
    "i = int(len(trainPaths) * config.VAL_SPLIT)\n",
    "valPaths = trainPaths[:i]\n",
    "trainPaths = trainPaths[i:]\n",
    "\n",
    "# define the datasets that we'll be building\n",
    "datasets = [\n",
    "\t(\"training\", trainPaths, config.TRAIN_PATH),\n",
    "\t(\"validation\", valPaths, config.VAL_PATH),\n",
    "\t(\"testing\", testPaths, config.TEST_PATH)\n",
    "]"
   ]
  },
  {
   "cell_type": "code",
   "execution_count": 11,
   "metadata": {},
   "outputs": [
    {
     "name": "stdout",
     "output_type": "stream",
     "text": [
      "[INFO] building 'training' split\n",
      "[INFO] 'creating camo_not_camo\\training' directory\n",
      "[INFO] 'creating camo_not_camo\\training\\camouflage_clothes' directory\n",
      "[INFO] 'creating camo_not_camo\\training\\normal_clothes' directory\n",
      "[INFO] building 'validation' split\n",
      "[INFO] 'creating camo_not_camo\\validation' directory\n",
      "[INFO] 'creating camo_not_camo\\validation\\normal_clothes' directory\n",
      "[INFO] 'creating camo_not_camo\\validation\\camouflage_clothes' directory\n",
      "[INFO] building 'testing' split\n",
      "[INFO] 'creating camo_not_camo\\testing' directory\n",
      "[INFO] 'creating camo_not_camo\\testing\\camouflage_clothes' directory\n",
      "[INFO] 'creating camo_not_camo\\testing\\normal_clothes' directory\n"
     ]
    }
   ],
   "source": [
    "# loop over the datasets\n",
    "for (dType, imagePaths, baseOutput) in datasets:\n",
    "\t# show which data split we are creating\n",
    "\tprint(\"[INFO] building '{}' split\".format(dType))\n",
    "\n",
    "\t# if the output base output directory does not exist, create it\n",
    "\tif not os.path.exists(baseOutput):\n",
    "\t\tprint(\"[INFO] 'creating {}' directory\".format(baseOutput))\n",
    "\t\tos.makedirs(baseOutput)\n",
    "\n",
    "\t# loop over the input image paths\n",
    "\tfor inputPath in imagePaths:\n",
    "\t\t# extract the filename of the input image along with its\n",
    "\t\t# corresponding class label\n",
    "\t\tfilename = inputPath.split(os.path.sep)[-1]\n",
    "\t\tlabel = inputPath.split(os.path.sep)[-2]\n",
    "\n",
    "\t\t# build the path to the label directory\n",
    "\t\tlabelPath = os.path.sep.join([baseOutput, label])\n",
    "\n",
    "\t\t# if the label output directory does not exist, create it\n",
    "\t\tif not os.path.exists(labelPath):\n",
    "\t\t\tprint(\"[INFO] 'creating {}' directory\".format(labelPath))\n",
    "\t\t\tos.makedirs(labelPath)\n",
    "\n",
    "\t\t# construct the path to the destination image and then copy\n",
    "\t\t# the image itself\n",
    "\t\tp = os.path.sep.join([labelPath, filename])\n",
    "\t\tshutil.copy2(inputPath, p)"
   ]
  },
  {
   "cell_type": "code",
   "execution_count": 12,
   "metadata": {},
   "outputs": [
    {
     "name": "stdout",
     "output_type": "stream",
     "text": [
      "['camo_not_camo\\\\validation\\\\camouflage_clothes\\\\00010025.jpg', 'camo_not_camo\\\\validation\\\\camouflage_clothes\\\\00010046.jpg', 'camo_not_camo\\\\validation\\\\camouflage_clothes\\\\00010095.jpg', 'camo_not_camo\\\\validation\\\\camouflage_clothes\\\\00010144.jpg', 'camo_not_camo\\\\validation\\\\camouflage_clothes\\\\0001015.jpg', 'camo_not_camo\\\\validation\\\\camouflage_clothes\\\\00010150.jpg', 'camo_not_camo\\\\validation\\\\camouflage_clothes\\\\000108.jpg', 'camo_not_camo\\\\validation\\\\camouflage_clothes\\\\0001115.jpg', 'camo_not_camo\\\\validation\\\\camouflage_clothes\\\\0001118.jpg', 'camo_not_camo\\\\validation\\\\camouflage_clothes\\\\0001120.jpg', 'camo_not_camo\\\\validation\\\\camouflage_clothes\\\\0001176.jpg', 'camo_not_camo\\\\validation\\\\camouflage_clothes\\\\0001191.jpg', 'camo_not_camo\\\\validation\\\\camouflage_clothes\\\\0001216.jpg', 'camo_not_camo\\\\validation\\\\camouflage_clothes\\\\0001222.jpg', 'camo_not_camo\\\\validation\\\\camouflage_clothes\\\\0001225.jpg', 'camo_not_camo\\\\validation\\\\camouflage_clothes\\\\000123.jpg', 'camo_not_camo\\\\validation\\\\camouflage_clothes\\\\0001262.jpg', 'camo_not_camo\\\\validation\\\\camouflage_clothes\\\\000127.jpg', 'camo_not_camo\\\\validation\\\\camouflage_clothes\\\\000129.jpg', 'camo_not_camo\\\\validation\\\\camouflage_clothes\\\\0001296.jpg', 'camo_not_camo\\\\validation\\\\camouflage_clothes\\\\0001298.jpg', 'camo_not_camo\\\\validation\\\\camouflage_clothes\\\\000130.jpg', 'camo_not_camo\\\\validation\\\\camouflage_clothes\\\\0001307.jpg', 'camo_not_camo\\\\validation\\\\camouflage_clothes\\\\0001349.jpg', 'camo_not_camo\\\\validation\\\\camouflage_clothes\\\\0001385.jpg', 'camo_not_camo\\\\validation\\\\camouflage_clothes\\\\0001412.jpg', 'camo_not_camo\\\\validation\\\\camouflage_clothes\\\\0001423.jpg', 'camo_not_camo\\\\validation\\\\camouflage_clothes\\\\000148.jpg', 'camo_not_camo\\\\validation\\\\camouflage_clothes\\\\0001494.jpg', 'camo_not_camo\\\\validation\\\\camouflage_clothes\\\\00015.jpg', 'camo_not_camo\\\\validation\\\\camouflage_clothes\\\\000150.jpg', 'camo_not_camo\\\\validation\\\\camouflage_clothes\\\\0001500.jpg', 'camo_not_camo\\\\validation\\\\camouflage_clothes\\\\0001526.jpg', 'camo_not_camo\\\\validation\\\\camouflage_clothes\\\\0001530.jpg', 'camo_not_camo\\\\validation\\\\camouflage_clothes\\\\0001541.jpg', 'camo_not_camo\\\\validation\\\\camouflage_clothes\\\\0001575.jpg', 'camo_not_camo\\\\validation\\\\camouflage_clothes\\\\0001576.jpg', 'camo_not_camo\\\\validation\\\\camouflage_clothes\\\\0001587.jpg', 'camo_not_camo\\\\validation\\\\camouflage_clothes\\\\0001602.jpg', 'camo_not_camo\\\\validation\\\\camouflage_clothes\\\\0001643.jpg', 'camo_not_camo\\\\validation\\\\camouflage_clothes\\\\0001673.jpg', 'camo_not_camo\\\\validation\\\\camouflage_clothes\\\\0001738.jpg', 'camo_not_camo\\\\validation\\\\camouflage_clothes\\\\0001760.jpg', 'camo_not_camo\\\\validation\\\\camouflage_clothes\\\\0001767.jpg', 'camo_not_camo\\\\validation\\\\camouflage_clothes\\\\0001791.jpg', 'camo_not_camo\\\\validation\\\\camouflage_clothes\\\\0001818.jpg', 'camo_not_camo\\\\validation\\\\camouflage_clothes\\\\0001824.jpg', 'camo_not_camo\\\\validation\\\\camouflage_clothes\\\\0001837.jpg', 'camo_not_camo\\\\validation\\\\camouflage_clothes\\\\0001842.jpg', 'camo_not_camo\\\\validation\\\\camouflage_clothes\\\\0001899.jpg', 'camo_not_camo\\\\validation\\\\camouflage_clothes\\\\0001909.jpg', 'camo_not_camo\\\\validation\\\\camouflage_clothes\\\\0001918.jpg', 'camo_not_camo\\\\validation\\\\camouflage_clothes\\\\0001929.jpg', 'camo_not_camo\\\\validation\\\\camouflage_clothes\\\\0001938.jpg', 'camo_not_camo\\\\validation\\\\camouflage_clothes\\\\0001967.jpg', 'camo_not_camo\\\\validation\\\\camouflage_clothes\\\\0002003.jpg', 'camo_not_camo\\\\validation\\\\camouflage_clothes\\\\0002035.jpg', 'camo_not_camo\\\\validation\\\\camouflage_clothes\\\\000205.jpg', 'camo_not_camo\\\\validation\\\\camouflage_clothes\\\\0002081.jpg', 'camo_not_camo\\\\validation\\\\camouflage_clothes\\\\0002083.jpg', 'camo_not_camo\\\\validation\\\\camouflage_clothes\\\\0002088.jpg', 'camo_not_camo\\\\validation\\\\camouflage_clothes\\\\0002101.jpg', 'camo_not_camo\\\\validation\\\\camouflage_clothes\\\\0002124.jpg', 'camo_not_camo\\\\validation\\\\camouflage_clothes\\\\0002128.jpg', 'camo_not_camo\\\\validation\\\\camouflage_clothes\\\\0002159.jpg', 'camo_not_camo\\\\validation\\\\camouflage_clothes\\\\0002169.jpg', 'camo_not_camo\\\\validation\\\\camouflage_clothes\\\\0002189.jpg', 'camo_not_camo\\\\validation\\\\camouflage_clothes\\\\0002198.jpg', 'camo_not_camo\\\\validation\\\\camouflage_clothes\\\\00022.jpg', 'camo_not_camo\\\\validation\\\\camouflage_clothes\\\\0002218.jpg', 'camo_not_camo\\\\validation\\\\camouflage_clothes\\\\0002249.jpg', 'camo_not_camo\\\\validation\\\\camouflage_clothes\\\\0002258.jpg', 'camo_not_camo\\\\validation\\\\camouflage_clothes\\\\0002284.jpg', 'camo_not_camo\\\\validation\\\\camouflage_clothes\\\\0002290.jpg', 'camo_not_camo\\\\validation\\\\camouflage_clothes\\\\0002305.jpg', 'camo_not_camo\\\\validation\\\\camouflage_clothes\\\\0002306.jpg', 'camo_not_camo\\\\validation\\\\camouflage_clothes\\\\0002320.jpg', 'camo_not_camo\\\\validation\\\\camouflage_clothes\\\\0002332.jpg', 'camo_not_camo\\\\validation\\\\camouflage_clothes\\\\0002335.jpg', 'camo_not_camo\\\\validation\\\\camouflage_clothes\\\\0002360.jpg', 'camo_not_camo\\\\validation\\\\camouflage_clothes\\\\0002380.jpg', 'camo_not_camo\\\\validation\\\\camouflage_clothes\\\\0002383.jpg', 'camo_not_camo\\\\validation\\\\camouflage_clothes\\\\0002392.jpg', 'camo_not_camo\\\\validation\\\\camouflage_clothes\\\\0002411.jpg', 'camo_not_camo\\\\validation\\\\camouflage_clothes\\\\0002432.jpg', 'camo_not_camo\\\\validation\\\\camouflage_clothes\\\\0002437.jpg', 'camo_not_camo\\\\validation\\\\camouflage_clothes\\\\0002440.jpg', 'camo_not_camo\\\\validation\\\\camouflage_clothes\\\\0002444.jpg', 'camo_not_camo\\\\validation\\\\camouflage_clothes\\\\0002452.jpg', 'camo_not_camo\\\\validation\\\\camouflage_clothes\\\\0002468.jpg', 'camo_not_camo\\\\validation\\\\camouflage_clothes\\\\0002503.jpg', 'camo_not_camo\\\\validation\\\\camouflage_clothes\\\\0002541.jpg', 'camo_not_camo\\\\validation\\\\camouflage_clothes\\\\0002563.jpg', 'camo_not_camo\\\\validation\\\\camouflage_clothes\\\\0002573.jpg', 'camo_not_camo\\\\validation\\\\camouflage_clothes\\\\0002581.jpg', 'camo_not_camo\\\\validation\\\\camouflage_clothes\\\\000259.jpg', 'camo_not_camo\\\\validation\\\\camouflage_clothes\\\\0002593.jpg', 'camo_not_camo\\\\validation\\\\camouflage_clothes\\\\0002601.jpg', 'camo_not_camo\\\\validation\\\\camouflage_clothes\\\\0002605.jpg', 'camo_not_camo\\\\validation\\\\camouflage_clothes\\\\0002606.jpg', 'camo_not_camo\\\\validation\\\\camouflage_clothes\\\\0002632.jpg', 'camo_not_camo\\\\validation\\\\camouflage_clothes\\\\0002638.jpg', 'camo_not_camo\\\\validation\\\\camouflage_clothes\\\\0002643.jpg', 'camo_not_camo\\\\validation\\\\camouflage_clothes\\\\0002688.jpg', 'camo_not_camo\\\\validation\\\\camouflage_clothes\\\\000269.jpg', 'camo_not_camo\\\\validation\\\\camouflage_clothes\\\\0002701.jpg', 'camo_not_camo\\\\validation\\\\camouflage_clothes\\\\0002718.jpg', 'camo_not_camo\\\\validation\\\\camouflage_clothes\\\\0002756.jpg', 'camo_not_camo\\\\validation\\\\camouflage_clothes\\\\0002786.jpg', 'camo_not_camo\\\\validation\\\\camouflage_clothes\\\\0002788.jpg', 'camo_not_camo\\\\validation\\\\camouflage_clothes\\\\0002818.jpg', 'camo_not_camo\\\\validation\\\\camouflage_clothes\\\\0002835.jpg', 'camo_not_camo\\\\validation\\\\camouflage_clothes\\\\0002836.jpg', 'camo_not_camo\\\\validation\\\\camouflage_clothes\\\\0002841.jpg', 'camo_not_camo\\\\validation\\\\camouflage_clothes\\\\0002844.jpg', 'camo_not_camo\\\\validation\\\\camouflage_clothes\\\\000285.jpg', 'camo_not_camo\\\\validation\\\\camouflage_clothes\\\\0002894.jpg', 'camo_not_camo\\\\validation\\\\camouflage_clothes\\\\0002903.jpg', 'camo_not_camo\\\\validation\\\\camouflage_clothes\\\\0002906.jpg', 'camo_not_camo\\\\validation\\\\camouflage_clothes\\\\0002925.jpg', 'camo_not_camo\\\\validation\\\\camouflage_clothes\\\\000293.jpg', 'camo_not_camo\\\\validation\\\\camouflage_clothes\\\\0002940.jpg', 'camo_not_camo\\\\validation\\\\camouflage_clothes\\\\0002952.jpg', 'camo_not_camo\\\\validation\\\\camouflage_clothes\\\\0002955.jpg', 'camo_not_camo\\\\validation\\\\camouflage_clothes\\\\0002962.jpg', 'camo_not_camo\\\\validation\\\\camouflage_clothes\\\\000297.jpg', 'camo_not_camo\\\\validation\\\\camouflage_clothes\\\\0002988.jpg', 'camo_not_camo\\\\validation\\\\camouflage_clothes\\\\00030.jpg', 'camo_not_camo\\\\validation\\\\camouflage_clothes\\\\0003013.jpg', 'camo_not_camo\\\\validation\\\\camouflage_clothes\\\\0003043.jpg', 'camo_not_camo\\\\validation\\\\camouflage_clothes\\\\0003073.jpg', 'camo_not_camo\\\\validation\\\\camouflage_clothes\\\\00031.jpg', 'camo_not_camo\\\\validation\\\\camouflage_clothes\\\\0003102.jpg', 'camo_not_camo\\\\validation\\\\camouflage_clothes\\\\0003121.jpg', 'camo_not_camo\\\\validation\\\\camouflage_clothes\\\\0003174.jpg', 'camo_not_camo\\\\validation\\\\camouflage_clothes\\\\000321.jpg', 'camo_not_camo\\\\validation\\\\camouflage_clothes\\\\0003255.jpg', 'camo_not_camo\\\\validation\\\\camouflage_clothes\\\\0003268.jpg', 'camo_not_camo\\\\validation\\\\camouflage_clothes\\\\0003269.jpg', 'camo_not_camo\\\\validation\\\\camouflage_clothes\\\\0003301.jpg', 'camo_not_camo\\\\validation\\\\camouflage_clothes\\\\0003317.jpg', 'camo_not_camo\\\\validation\\\\camouflage_clothes\\\\0003325.jpg', 'camo_not_camo\\\\validation\\\\camouflage_clothes\\\\0003343.jpg', 'camo_not_camo\\\\validation\\\\camouflage_clothes\\\\0003346.jpg', 'camo_not_camo\\\\validation\\\\camouflage_clothes\\\\0003356.jpg', 'camo_not_camo\\\\validation\\\\camouflage_clothes\\\\0003361.jpg', 'camo_not_camo\\\\validation\\\\camouflage_clothes\\\\0003398.jpg', 'camo_not_camo\\\\validation\\\\camouflage_clothes\\\\0003407.jpg', 'camo_not_camo\\\\validation\\\\camouflage_clothes\\\\0003438.jpg', 'camo_not_camo\\\\validation\\\\camouflage_clothes\\\\0003461.jpg', 'camo_not_camo\\\\validation\\\\camouflage_clothes\\\\0003471.jpg', 'camo_not_camo\\\\validation\\\\camouflage_clothes\\\\0003490.jpg', 'camo_not_camo\\\\validation\\\\camouflage_clothes\\\\0003494.jpg', 'camo_not_camo\\\\validation\\\\camouflage_clothes\\\\0003498.jpg', 'camo_not_camo\\\\validation\\\\camouflage_clothes\\\\0003542.jpg', 'camo_not_camo\\\\validation\\\\camouflage_clothes\\\\000356.jpg', 'camo_not_camo\\\\validation\\\\camouflage_clothes\\\\0003567.jpg', 'camo_not_camo\\\\validation\\\\camouflage_clothes\\\\0003569.jpg', 'camo_not_camo\\\\validation\\\\camouflage_clothes\\\\0003589.jpg', 'camo_not_camo\\\\validation\\\\camouflage_clothes\\\\000359.jpg', 'camo_not_camo\\\\validation\\\\camouflage_clothes\\\\0003622.jpg', 'camo_not_camo\\\\validation\\\\camouflage_clothes\\\\0003642.jpg', 'camo_not_camo\\\\validation\\\\camouflage_clothes\\\\0003649.jpg', 'camo_not_camo\\\\validation\\\\camouflage_clothes\\\\0003651.jpg', 'camo_not_camo\\\\validation\\\\camouflage_clothes\\\\000366.jpg', 'camo_not_camo\\\\validation\\\\camouflage_clothes\\\\0003682.jpg', 'camo_not_camo\\\\validation\\\\camouflage_clothes\\\\0003719.jpg', 'camo_not_camo\\\\validation\\\\camouflage_clothes\\\\0003730.jpg', 'camo_not_camo\\\\validation\\\\camouflage_clothes\\\\0003751.jpg', 'camo_not_camo\\\\validation\\\\camouflage_clothes\\\\0003754.jpg', 'camo_not_camo\\\\validation\\\\camouflage_clothes\\\\0003796.jpg', 'camo_not_camo\\\\validation\\\\camouflage_clothes\\\\000380.jpg', 'camo_not_camo\\\\validation\\\\camouflage_clothes\\\\0003809.jpg', 'camo_not_camo\\\\validation\\\\camouflage_clothes\\\\0003824.jpg', 'camo_not_camo\\\\validation\\\\camouflage_clothes\\\\000383.jpg', 'camo_not_camo\\\\validation\\\\camouflage_clothes\\\\0003834.jpg', 'camo_not_camo\\\\validation\\\\camouflage_clothes\\\\0003854.jpg', 'camo_not_camo\\\\validation\\\\camouflage_clothes\\\\0003864.jpg', 'camo_not_camo\\\\validation\\\\camouflage_clothes\\\\0003865.jpg', 'camo_not_camo\\\\validation\\\\camouflage_clothes\\\\0003887.jpg', 'camo_not_camo\\\\validation\\\\camouflage_clothes\\\\000389.jpg', 'camo_not_camo\\\\validation\\\\camouflage_clothes\\\\0003909.jpg', 'camo_not_camo\\\\validation\\\\camouflage_clothes\\\\0003917.jpg', 'camo_not_camo\\\\validation\\\\camouflage_clothes\\\\0003918.jpg', 'camo_not_camo\\\\validation\\\\camouflage_clothes\\\\0003922.jpg', 'camo_not_camo\\\\validation\\\\camouflage_clothes\\\\0003924.jpg', 'camo_not_camo\\\\validation\\\\camouflage_clothes\\\\0003930.jpg', 'camo_not_camo\\\\validation\\\\camouflage_clothes\\\\0003961.jpg', 'camo_not_camo\\\\validation\\\\camouflage_clothes\\\\000399.jpg', 'camo_not_camo\\\\validation\\\\camouflage_clothes\\\\0004004.jpg', 'camo_not_camo\\\\validation\\\\camouflage_clothes\\\\0004024.jpg', 'camo_not_camo\\\\validation\\\\camouflage_clothes\\\\0004066.jpg', 'camo_not_camo\\\\validation\\\\camouflage_clothes\\\\0004080.jpg', 'camo_not_camo\\\\validation\\\\camouflage_clothes\\\\0004095.jpg', 'camo_not_camo\\\\validation\\\\camouflage_clothes\\\\0004101.jpg', 'camo_not_camo\\\\validation\\\\camouflage_clothes\\\\0004104.jpg', 'camo_not_camo\\\\validation\\\\camouflage_clothes\\\\0004106.jpg', 'camo_not_camo\\\\validation\\\\camouflage_clothes\\\\0004152.jpg', 'camo_not_camo\\\\validation\\\\camouflage_clothes\\\\0004153.jpg', 'camo_not_camo\\\\validation\\\\camouflage_clothes\\\\0004160.jpg', 'camo_not_camo\\\\validation\\\\camouflage_clothes\\\\0004193.jpg', 'camo_not_camo\\\\validation\\\\camouflage_clothes\\\\0004216.jpg', 'camo_not_camo\\\\validation\\\\camouflage_clothes\\\\0004217.jpg', 'camo_not_camo\\\\validation\\\\camouflage_clothes\\\\0004227.jpg', 'camo_not_camo\\\\validation\\\\camouflage_clothes\\\\0004234.jpg', 'camo_not_camo\\\\validation\\\\camouflage_clothes\\\\0004244.jpg', 'camo_not_camo\\\\validation\\\\camouflage_clothes\\\\0004269.jpg', 'camo_not_camo\\\\validation\\\\camouflage_clothes\\\\0004282.jpg', 'camo_not_camo\\\\validation\\\\camouflage_clothes\\\\0004288.jpg', 'camo_not_camo\\\\validation\\\\camouflage_clothes\\\\0004304.jpg', 'camo_not_camo\\\\validation\\\\camouflage_clothes\\\\0004314.jpg', 'camo_not_camo\\\\validation\\\\camouflage_clothes\\\\0004315.jpg', 'camo_not_camo\\\\validation\\\\camouflage_clothes\\\\0004332.jpg', 'camo_not_camo\\\\validation\\\\camouflage_clothes\\\\0004346.jpg', 'camo_not_camo\\\\validation\\\\camouflage_clothes\\\\0004358.jpg', 'camo_not_camo\\\\validation\\\\camouflage_clothes\\\\000436.jpg', 'camo_not_camo\\\\validation\\\\camouflage_clothes\\\\000437.jpg', 'camo_not_camo\\\\validation\\\\camouflage_clothes\\\\0004384.jpg', 'camo_not_camo\\\\validation\\\\camouflage_clothes\\\\0004398.jpg', 'camo_not_camo\\\\validation\\\\camouflage_clothes\\\\000443.jpg', 'camo_not_camo\\\\validation\\\\camouflage_clothes\\\\0004433.jpg', 'camo_not_camo\\\\validation\\\\camouflage_clothes\\\\0004435.jpg', 'camo_not_camo\\\\validation\\\\camouflage_clothes\\\\0004444.jpg', 'camo_not_camo\\\\validation\\\\camouflage_clothes\\\\0004471.jpg', 'camo_not_camo\\\\validation\\\\camouflage_clothes\\\\0004499.jpg', 'camo_not_camo\\\\validation\\\\camouflage_clothes\\\\000450.jpg', 'camo_not_camo\\\\validation\\\\camouflage_clothes\\\\000451.jpg', 'camo_not_camo\\\\validation\\\\camouflage_clothes\\\\0004517.jpg', 'camo_not_camo\\\\validation\\\\camouflage_clothes\\\\0004524.jpg', 'camo_not_camo\\\\validation\\\\camouflage_clothes\\\\0004556.jpg', 'camo_not_camo\\\\validation\\\\camouflage_clothes\\\\0004574.jpg', 'camo_not_camo\\\\validation\\\\camouflage_clothes\\\\000458.jpg', 'camo_not_camo\\\\validation\\\\camouflage_clothes\\\\0004611.jpg', 'camo_not_camo\\\\validation\\\\camouflage_clothes\\\\0004643.jpg', 'camo_not_camo\\\\validation\\\\camouflage_clothes\\\\0004670.jpg', 'camo_not_camo\\\\validation\\\\camouflage_clothes\\\\0004671.jpg', 'camo_not_camo\\\\validation\\\\camouflage_clothes\\\\0004696.jpg', 'camo_not_camo\\\\validation\\\\camouflage_clothes\\\\0004715.jpg', 'camo_not_camo\\\\validation\\\\camouflage_clothes\\\\0004731.jpg', 'camo_not_camo\\\\validation\\\\camouflage_clothes\\\\0004736.jpg', 'camo_not_camo\\\\validation\\\\camouflage_clothes\\\\0004738.jpg', 'camo_not_camo\\\\validation\\\\camouflage_clothes\\\\0004760.jpg', 'camo_not_camo\\\\validation\\\\camouflage_clothes\\\\0004775.jpg', 'camo_not_camo\\\\validation\\\\camouflage_clothes\\\\0004790.jpg', 'camo_not_camo\\\\validation\\\\camouflage_clothes\\\\0004797.jpg', 'camo_not_camo\\\\validation\\\\camouflage_clothes\\\\000480.jpg', 'camo_not_camo\\\\validation\\\\camouflage_clothes\\\\0004818.jpg', 'camo_not_camo\\\\validation\\\\camouflage_clothes\\\\000483.jpg', 'camo_not_camo\\\\validation\\\\camouflage_clothes\\\\000484.jpg', 'camo_not_camo\\\\validation\\\\camouflage_clothes\\\\0004849.jpg', 'camo_not_camo\\\\validation\\\\camouflage_clothes\\\\0004879.jpg', 'camo_not_camo\\\\validation\\\\camouflage_clothes\\\\0004896.jpg', 'camo_not_camo\\\\validation\\\\camouflage_clothes\\\\0004924.jpg', 'camo_not_camo\\\\validation\\\\camouflage_clothes\\\\0004929.jpg', 'camo_not_camo\\\\validation\\\\camouflage_clothes\\\\0004938.jpg', 'camo_not_camo\\\\validation\\\\camouflage_clothes\\\\0004939.jpg', 'camo_not_camo\\\\validation\\\\camouflage_clothes\\\\0004959.jpg', 'camo_not_camo\\\\validation\\\\camouflage_clothes\\\\0004973.jpg', 'camo_not_camo\\\\validation\\\\camouflage_clothes\\\\0004977.jpg', 'camo_not_camo\\\\validation\\\\camouflage_clothes\\\\0005017.jpg', 'camo_not_camo\\\\validation\\\\camouflage_clothes\\\\0005044.jpg', 'camo_not_camo\\\\validation\\\\camouflage_clothes\\\\0005047.jpg', 'camo_not_camo\\\\validation\\\\camouflage_clothes\\\\0005063.jpg', 'camo_not_camo\\\\validation\\\\camouflage_clothes\\\\0005085.jpg', 'camo_not_camo\\\\validation\\\\camouflage_clothes\\\\0005089.jpg', 'camo_not_camo\\\\validation\\\\camouflage_clothes\\\\0005091.jpg', 'camo_not_camo\\\\validation\\\\camouflage_clothes\\\\0005094.jpg', 'camo_not_camo\\\\validation\\\\camouflage_clothes\\\\0005133.jpg', 'camo_not_camo\\\\validation\\\\camouflage_clothes\\\\0005140.jpg', 'camo_not_camo\\\\validation\\\\camouflage_clothes\\\\0005149.jpg', 'camo_not_camo\\\\validation\\\\camouflage_clothes\\\\0005156.jpg', 'camo_not_camo\\\\validation\\\\camouflage_clothes\\\\000517.jpg', 'camo_not_camo\\\\validation\\\\camouflage_clothes\\\\0005201.jpg', 'camo_not_camo\\\\validation\\\\camouflage_clothes\\\\0005207.jpg', 'camo_not_camo\\\\validation\\\\camouflage_clothes\\\\0005220.jpg', 'camo_not_camo\\\\validation\\\\camouflage_clothes\\\\0005228.jpg', 'camo_not_camo\\\\validation\\\\camouflage_clothes\\\\0005259.jpg', 'camo_not_camo\\\\validation\\\\camouflage_clothes\\\\0005261.jpg', 'camo_not_camo\\\\validation\\\\camouflage_clothes\\\\0005275.jpg', 'camo_not_camo\\\\validation\\\\camouflage_clothes\\\\0005276.jpg', 'camo_not_camo\\\\validation\\\\camouflage_clothes\\\\0005293.jpg', 'camo_not_camo\\\\validation\\\\camouflage_clothes\\\\0005305.jpg', 'camo_not_camo\\\\validation\\\\camouflage_clothes\\\\0005334.jpg', 'camo_not_camo\\\\validation\\\\camouflage_clothes\\\\0005353.jpg', 'camo_not_camo\\\\validation\\\\camouflage_clothes\\\\0005354.jpg', 'camo_not_camo\\\\validation\\\\camouflage_clothes\\\\0005357.jpg', 'camo_not_camo\\\\validation\\\\camouflage_clothes\\\\0005376.jpg', 'camo_not_camo\\\\validation\\\\camouflage_clothes\\\\0005397.jpg', 'camo_not_camo\\\\validation\\\\camouflage_clothes\\\\0005411.jpg', 'camo_not_camo\\\\validation\\\\camouflage_clothes\\\\0005420.jpg', 'camo_not_camo\\\\validation\\\\camouflage_clothes\\\\0005439.jpg', 'camo_not_camo\\\\validation\\\\camouflage_clothes\\\\0005440.jpg', 'camo_not_camo\\\\validation\\\\camouflage_clothes\\\\0005454.jpg', 'camo_not_camo\\\\validation\\\\camouflage_clothes\\\\0005474.jpg', 'camo_not_camo\\\\validation\\\\camouflage_clothes\\\\0005484.jpg', 'camo_not_camo\\\\validation\\\\camouflage_clothes\\\\0005489.jpg', 'camo_not_camo\\\\validation\\\\camouflage_clothes\\\\0005503.jpg', 'camo_not_camo\\\\validation\\\\camouflage_clothes\\\\0005509.jpg', 'camo_not_camo\\\\validation\\\\camouflage_clothes\\\\0005568.jpg', 'camo_not_camo\\\\validation\\\\camouflage_clothes\\\\0005598.jpg', 'camo_not_camo\\\\validation\\\\camouflage_clothes\\\\0005600.jpg', 'camo_not_camo\\\\validation\\\\camouflage_clothes\\\\0005605.jpg', 'camo_not_camo\\\\validation\\\\camouflage_clothes\\\\0005606.jpg', 'camo_not_camo\\\\validation\\\\camouflage_clothes\\\\0005632.jpg', 'camo_not_camo\\\\validation\\\\camouflage_clothes\\\\0005640.jpg', 'camo_not_camo\\\\validation\\\\camouflage_clothes\\\\0005643.jpg', 'camo_not_camo\\\\validation\\\\camouflage_clothes\\\\0005654.jpg', 'camo_not_camo\\\\validation\\\\camouflage_clothes\\\\0005667.jpg', 'camo_not_camo\\\\validation\\\\camouflage_clothes\\\\0005698.jpg', 'camo_not_camo\\\\validation\\\\camouflage_clothes\\\\0005725.jpg', 'camo_not_camo\\\\validation\\\\camouflage_clothes\\\\0005731.jpg', 'camo_not_camo\\\\validation\\\\camouflage_clothes\\\\0005733.jpg', 'camo_not_camo\\\\validation\\\\camouflage_clothes\\\\0005734.jpg', 'camo_not_camo\\\\validation\\\\camouflage_clothes\\\\0005753.jpg', 'camo_not_camo\\\\validation\\\\camouflage_clothes\\\\0005754.jpg', 'camo_not_camo\\\\validation\\\\camouflage_clothes\\\\0005766.jpg', 'camo_not_camo\\\\validation\\\\camouflage_clothes\\\\0005772.jpg', 'camo_not_camo\\\\validation\\\\camouflage_clothes\\\\0005778.jpg', 'camo_not_camo\\\\validation\\\\camouflage_clothes\\\\0005813.jpg', 'camo_not_camo\\\\validation\\\\camouflage_clothes\\\\0005830.jpg', 'camo_not_camo\\\\validation\\\\camouflage_clothes\\\\0005857.jpg', 'camo_not_camo\\\\validation\\\\camouflage_clothes\\\\0005858.jpg', 'camo_not_camo\\\\validation\\\\camouflage_clothes\\\\0005859.jpg', 'camo_not_camo\\\\validation\\\\camouflage_clothes\\\\0005864.jpg', 'camo_not_camo\\\\validation\\\\camouflage_clothes\\\\0005867.jpg', 'camo_not_camo\\\\validation\\\\camouflage_clothes\\\\000592.jpg', 'camo_not_camo\\\\validation\\\\camouflage_clothes\\\\0005932.jpg', 'camo_not_camo\\\\validation\\\\camouflage_clothes\\\\0005958.jpg', 'camo_not_camo\\\\validation\\\\camouflage_clothes\\\\000596.jpg', 'camo_not_camo\\\\validation\\\\camouflage_clothes\\\\000597.jpg', 'camo_not_camo\\\\validation\\\\camouflage_clothes\\\\0006005.jpg', 'camo_not_camo\\\\validation\\\\camouflage_clothes\\\\0006013.jpg', 'camo_not_camo\\\\validation\\\\camouflage_clothes\\\\0006046.jpg', 'camo_not_camo\\\\validation\\\\camouflage_clothes\\\\0006056.jpg', 'camo_not_camo\\\\validation\\\\camouflage_clothes\\\\0006066.jpg', 'camo_not_camo\\\\validation\\\\camouflage_clothes\\\\0006071.jpg', 'camo_not_camo\\\\validation\\\\camouflage_clothes\\\\0006082.jpg', 'camo_not_camo\\\\validation\\\\camouflage_clothes\\\\0006110.jpg', 'camo_not_camo\\\\validation\\\\camouflage_clothes\\\\0006113.jpg', 'camo_not_camo\\\\validation\\\\camouflage_clothes\\\\000616.jpg', 'camo_not_camo\\\\validation\\\\camouflage_clothes\\\\0006204.jpg', 'camo_not_camo\\\\validation\\\\camouflage_clothes\\\\0006206.jpg', 'camo_not_camo\\\\validation\\\\camouflage_clothes\\\\0006224.jpg', 'camo_not_camo\\\\validation\\\\camouflage_clothes\\\\0006241.jpg', 'camo_not_camo\\\\validation\\\\camouflage_clothes\\\\0006269.jpg', 'camo_not_camo\\\\validation\\\\camouflage_clothes\\\\0006277.jpg', 'camo_not_camo\\\\validation\\\\camouflage_clothes\\\\000630.jpg', 'camo_not_camo\\\\validation\\\\camouflage_clothes\\\\0006307.jpg', 'camo_not_camo\\\\validation\\\\camouflage_clothes\\\\0006319.jpg', 'camo_not_camo\\\\validation\\\\camouflage_clothes\\\\0006331.jpg', 'camo_not_camo\\\\validation\\\\camouflage_clothes\\\\0006355.jpg', 'camo_not_camo\\\\validation\\\\camouflage_clothes\\\\0006358.jpg', 'camo_not_camo\\\\validation\\\\camouflage_clothes\\\\000637.jpg', 'camo_not_camo\\\\validation\\\\camouflage_clothes\\\\0006398.jpg', 'camo_not_camo\\\\validation\\\\camouflage_clothes\\\\00064.jpg', 'camo_not_camo\\\\validation\\\\camouflage_clothes\\\\000642.jpg', 'camo_not_camo\\\\validation\\\\camouflage_clothes\\\\000644.jpg', 'camo_not_camo\\\\validation\\\\camouflage_clothes\\\\0006474.jpg', 'camo_not_camo\\\\validation\\\\camouflage_clothes\\\\0006475.jpg', 'camo_not_camo\\\\validation\\\\camouflage_clothes\\\\0006490.jpg', 'camo_not_camo\\\\validation\\\\camouflage_clothes\\\\0006512.jpg', 'camo_not_camo\\\\validation\\\\camouflage_clothes\\\\0006518.jpg', 'camo_not_camo\\\\validation\\\\camouflage_clothes\\\\0006519.jpg', 'camo_not_camo\\\\validation\\\\camouflage_clothes\\\\0006532.jpg', 'camo_not_camo\\\\validation\\\\camouflage_clothes\\\\0006541.jpg', 'camo_not_camo\\\\validation\\\\camouflage_clothes\\\\000655.jpg', 'camo_not_camo\\\\validation\\\\camouflage_clothes\\\\0006591.jpg', 'camo_not_camo\\\\validation\\\\camouflage_clothes\\\\0006595.jpg', 'camo_not_camo\\\\validation\\\\camouflage_clothes\\\\0006600.jpg', 'camo_not_camo\\\\validation\\\\camouflage_clothes\\\\0006623.jpg', 'camo_not_camo\\\\validation\\\\camouflage_clothes\\\\000664.jpg', 'camo_not_camo\\\\validation\\\\camouflage_clothes\\\\0006648.jpg', 'camo_not_camo\\\\validation\\\\camouflage_clothes\\\\0006667.jpg', 'camo_not_camo\\\\validation\\\\camouflage_clothes\\\\0006693.jpg', 'camo_not_camo\\\\validation\\\\camouflage_clothes\\\\0006722.jpg', 'camo_not_camo\\\\validation\\\\camouflage_clothes\\\\0006741.jpg', 'camo_not_camo\\\\validation\\\\camouflage_clothes\\\\0006755.jpg', 'camo_not_camo\\\\validation\\\\camouflage_clothes\\\\0006790.jpg', 'camo_not_camo\\\\validation\\\\camouflage_clothes\\\\0006796.jpg', 'camo_not_camo\\\\validation\\\\camouflage_clothes\\\\0006842.jpg', 'camo_not_camo\\\\validation\\\\camouflage_clothes\\\\0006849.jpg', 'camo_not_camo\\\\validation\\\\camouflage_clothes\\\\0006853.jpg', 'camo_not_camo\\\\validation\\\\camouflage_clothes\\\\0006900.jpg', 'camo_not_camo\\\\validation\\\\camouflage_clothes\\\\0006910.jpg', 'camo_not_camo\\\\validation\\\\camouflage_clothes\\\\0006924.jpg', 'camo_not_camo\\\\validation\\\\camouflage_clothes\\\\000693.jpg', 'camo_not_camo\\\\validation\\\\camouflage_clothes\\\\0006942.jpg', 'camo_not_camo\\\\validation\\\\camouflage_clothes\\\\0006954.jpg', 'camo_not_camo\\\\validation\\\\camouflage_clothes\\\\0006958.jpg', 'camo_not_camo\\\\validation\\\\camouflage_clothes\\\\0006977.jpg', 'camo_not_camo\\\\validation\\\\camouflage_clothes\\\\0006982.jpg', 'camo_not_camo\\\\validation\\\\camouflage_clothes\\\\0007009.jpg', 'camo_not_camo\\\\validation\\\\camouflage_clothes\\\\0007030.jpg', 'camo_not_camo\\\\validation\\\\camouflage_clothes\\\\0007036.jpg', 'camo_not_camo\\\\validation\\\\camouflage_clothes\\\\0007038.jpg', 'camo_not_camo\\\\validation\\\\camouflage_clothes\\\\0007079.jpg', 'camo_not_camo\\\\validation\\\\camouflage_clothes\\\\0007086.jpg', 'camo_not_camo\\\\validation\\\\camouflage_clothes\\\\0007088.jpg', 'camo_not_camo\\\\validation\\\\camouflage_clothes\\\\0007129.jpg', 'camo_not_camo\\\\validation\\\\camouflage_clothes\\\\0007151.jpg', 'camo_not_camo\\\\validation\\\\camouflage_clothes\\\\0007165.jpg', 'camo_not_camo\\\\validation\\\\camouflage_clothes\\\\000718.jpg', 'camo_not_camo\\\\validation\\\\camouflage_clothes\\\\0007180.jpg', 'camo_not_camo\\\\validation\\\\camouflage_clothes\\\\0007188.jpg', 'camo_not_camo\\\\validation\\\\camouflage_clothes\\\\00072.jpg', 'camo_not_camo\\\\validation\\\\camouflage_clothes\\\\0007209.jpg', 'camo_not_camo\\\\validation\\\\camouflage_clothes\\\\0007225.jpg', 'camo_not_camo\\\\validation\\\\camouflage_clothes\\\\0007234.jpg', 'camo_not_camo\\\\validation\\\\camouflage_clothes\\\\0007240.jpg', 'camo_not_camo\\\\validation\\\\camouflage_clothes\\\\0007241.jpg', 'camo_not_camo\\\\validation\\\\camouflage_clothes\\\\0007253.jpg', 'camo_not_camo\\\\validation\\\\camouflage_clothes\\\\0007266.jpg', 'camo_not_camo\\\\validation\\\\camouflage_clothes\\\\0007274.jpg', 'camo_not_camo\\\\validation\\\\camouflage_clothes\\\\0007276.jpg', 'camo_not_camo\\\\validation\\\\camouflage_clothes\\\\0007297.jpg', 'camo_not_camo\\\\validation\\\\camouflage_clothes\\\\0007302.jpg', 'camo_not_camo\\\\validation\\\\camouflage_clothes\\\\0007310.jpg', 'camo_not_camo\\\\validation\\\\camouflage_clothes\\\\0007312.jpg', 'camo_not_camo\\\\validation\\\\camouflage_clothes\\\\0007317.jpg', 'camo_not_camo\\\\validation\\\\camouflage_clothes\\\\0007370.jpg', 'camo_not_camo\\\\validation\\\\camouflage_clothes\\\\0007391.jpg', 'camo_not_camo\\\\validation\\\\camouflage_clothes\\\\0007413.jpg', 'camo_not_camo\\\\validation\\\\camouflage_clothes\\\\0007420.jpg', 'camo_not_camo\\\\validation\\\\camouflage_clothes\\\\0007429.jpg', 'camo_not_camo\\\\validation\\\\camouflage_clothes\\\\0007455.jpg', 'camo_not_camo\\\\validation\\\\camouflage_clothes\\\\0007483.jpg', 'camo_not_camo\\\\validation\\\\camouflage_clothes\\\\0007486.jpg', 'camo_not_camo\\\\validation\\\\camouflage_clothes\\\\0007512.jpg', 'camo_not_camo\\\\validation\\\\camouflage_clothes\\\\0007525.jpg', 'camo_not_camo\\\\validation\\\\camouflage_clothes\\\\0007527.jpg', 'camo_not_camo\\\\validation\\\\camouflage_clothes\\\\0007545.jpg', 'camo_not_camo\\\\validation\\\\camouflage_clothes\\\\0007556.jpg', 'camo_not_camo\\\\validation\\\\camouflage_clothes\\\\000759.jpg', 'camo_not_camo\\\\validation\\\\camouflage_clothes\\\\0007605.jpg', 'camo_not_camo\\\\validation\\\\camouflage_clothes\\\\0007636.jpg', 'camo_not_camo\\\\validation\\\\camouflage_clothes\\\\0007656.jpg', 'camo_not_camo\\\\validation\\\\camouflage_clothes\\\\000769.jpg', 'camo_not_camo\\\\validation\\\\camouflage_clothes\\\\0007695.jpg', 'camo_not_camo\\\\validation\\\\camouflage_clothes\\\\0007698.jpg', 'camo_not_camo\\\\validation\\\\camouflage_clothes\\\\0007702.jpg', 'camo_not_camo\\\\validation\\\\camouflage_clothes\\\\0007738.jpg', 'camo_not_camo\\\\validation\\\\camouflage_clothes\\\\0007753.jpg', 'camo_not_camo\\\\validation\\\\camouflage_clothes\\\\0007815.jpg', 'camo_not_camo\\\\validation\\\\camouflage_clothes\\\\0007835.jpg', 'camo_not_camo\\\\validation\\\\camouflage_clothes\\\\0007842.jpg', 'camo_not_camo\\\\validation\\\\camouflage_clothes\\\\0007866.jpg', 'camo_not_camo\\\\validation\\\\camouflage_clothes\\\\0007876.jpg', 'camo_not_camo\\\\validation\\\\camouflage_clothes\\\\0007885.jpg', 'camo_not_camo\\\\validation\\\\camouflage_clothes\\\\0007890.jpg', 'camo_not_camo\\\\validation\\\\camouflage_clothes\\\\0007892.jpg', 'camo_not_camo\\\\validation\\\\camouflage_clothes\\\\00079.jpg', 'camo_not_camo\\\\validation\\\\camouflage_clothes\\\\0007902.jpg', 'camo_not_camo\\\\validation\\\\camouflage_clothes\\\\0007912.jpg', 'camo_not_camo\\\\validation\\\\camouflage_clothes\\\\0007928.jpg', 'camo_not_camo\\\\validation\\\\camouflage_clothes\\\\0007937.jpg', 'camo_not_camo\\\\validation\\\\camouflage_clothes\\\\0007957.jpg', 'camo_not_camo\\\\validation\\\\camouflage_clothes\\\\0007970.jpg', 'camo_not_camo\\\\validation\\\\camouflage_clothes\\\\0007971.jpg', 'camo_not_camo\\\\validation\\\\camouflage_clothes\\\\0007973.jpg', 'camo_not_camo\\\\validation\\\\camouflage_clothes\\\\0007974.jpg', 'camo_not_camo\\\\validation\\\\camouflage_clothes\\\\0007984.jpg', 'camo_not_camo\\\\validation\\\\camouflage_clothes\\\\0008014.jpg', 'camo_not_camo\\\\validation\\\\camouflage_clothes\\\\0008052.jpg', 'camo_not_camo\\\\validation\\\\camouflage_clothes\\\\0008081.jpg', 'camo_not_camo\\\\validation\\\\camouflage_clothes\\\\0008112.jpg', 'camo_not_camo\\\\validation\\\\camouflage_clothes\\\\0008117.jpg', 'camo_not_camo\\\\validation\\\\camouflage_clothes\\\\0008119.jpg', 'camo_not_camo\\\\validation\\\\camouflage_clothes\\\\0008121.jpg', 'camo_not_camo\\\\validation\\\\camouflage_clothes\\\\0008126.jpg', 'camo_not_camo\\\\validation\\\\camouflage_clothes\\\\0008132.jpg', 'camo_not_camo\\\\validation\\\\camouflage_clothes\\\\000815.jpg', 'camo_not_camo\\\\validation\\\\camouflage_clothes\\\\0008182.jpg', 'camo_not_camo\\\\validation\\\\camouflage_clothes\\\\0008186.jpg', 'camo_not_camo\\\\validation\\\\camouflage_clothes\\\\0008204.jpg', 'camo_not_camo\\\\validation\\\\camouflage_clothes\\\\0008206.jpg', 'camo_not_camo\\\\validation\\\\camouflage_clothes\\\\0008226.jpg', 'camo_not_camo\\\\validation\\\\camouflage_clothes\\\\0008229.jpg', 'camo_not_camo\\\\validation\\\\camouflage_clothes\\\\0008283.jpg', 'camo_not_camo\\\\validation\\\\camouflage_clothes\\\\000830.jpg', 'camo_not_camo\\\\validation\\\\camouflage_clothes\\\\0008312.jpg', 'camo_not_camo\\\\validation\\\\camouflage_clothes\\\\0008383.jpg', 'camo_not_camo\\\\validation\\\\camouflage_clothes\\\\0008395.jpg', 'camo_not_camo\\\\validation\\\\camouflage_clothes\\\\0008421.jpg', 'camo_not_camo\\\\validation\\\\camouflage_clothes\\\\0008450.jpg', 'camo_not_camo\\\\validation\\\\camouflage_clothes\\\\0008476.jpg', 'camo_not_camo\\\\validation\\\\camouflage_clothes\\\\0008490.jpg', 'camo_not_camo\\\\validation\\\\camouflage_clothes\\\\0008502.jpg', 'camo_not_camo\\\\validation\\\\camouflage_clothes\\\\0008508.jpg', 'camo_not_camo\\\\validation\\\\camouflage_clothes\\\\0008517.jpg', 'camo_not_camo\\\\validation\\\\camouflage_clothes\\\\0008585.jpg', 'camo_not_camo\\\\validation\\\\camouflage_clothes\\\\0008590.jpg', 'camo_not_camo\\\\validation\\\\camouflage_clothes\\\\0008597.jpg', 'camo_not_camo\\\\validation\\\\camouflage_clothes\\\\0008613.jpg', 'camo_not_camo\\\\validation\\\\camouflage_clothes\\\\0008665.jpg', 'camo_not_camo\\\\validation\\\\camouflage_clothes\\\\0008697.jpg', 'camo_not_camo\\\\validation\\\\camouflage_clothes\\\\000870.jpg', 'camo_not_camo\\\\validation\\\\camouflage_clothes\\\\0008744.jpg', 'camo_not_camo\\\\validation\\\\camouflage_clothes\\\\0008755.jpg', 'camo_not_camo\\\\validation\\\\camouflage_clothes\\\\000876.jpg', 'camo_not_camo\\\\validation\\\\camouflage_clothes\\\\0008762.jpg', 'camo_not_camo\\\\validation\\\\camouflage_clothes\\\\0008787.jpg', 'camo_not_camo\\\\validation\\\\camouflage_clothes\\\\0008815.jpg', 'camo_not_camo\\\\validation\\\\camouflage_clothes\\\\0008819.jpg', 'camo_not_camo\\\\validation\\\\camouflage_clothes\\\\0008841.jpg', 'camo_not_camo\\\\validation\\\\camouflage_clothes\\\\000887.jpg', 'camo_not_camo\\\\validation\\\\camouflage_clothes\\\\0008874.jpg', 'camo_not_camo\\\\validation\\\\camouflage_clothes\\\\0008902.jpg', 'camo_not_camo\\\\validation\\\\camouflage_clothes\\\\0008911.jpg', 'camo_not_camo\\\\validation\\\\camouflage_clothes\\\\0008923.jpg', 'camo_not_camo\\\\validation\\\\camouflage_clothes\\\\0008927.jpg', 'camo_not_camo\\\\validation\\\\camouflage_clothes\\\\0008935.jpg', 'camo_not_camo\\\\validation\\\\camouflage_clothes\\\\0008938.jpg', 'camo_not_camo\\\\validation\\\\camouflage_clothes\\\\000895.jpg', 'camo_not_camo\\\\validation\\\\camouflage_clothes\\\\0008954.jpg', 'camo_not_camo\\\\validation\\\\camouflage_clothes\\\\0008984.jpg', 'camo_not_camo\\\\validation\\\\camouflage_clothes\\\\0009012.jpg', 'camo_not_camo\\\\validation\\\\camouflage_clothes\\\\0009026.jpg', 'camo_not_camo\\\\validation\\\\camouflage_clothes\\\\0009041.jpg', 'camo_not_camo\\\\validation\\\\camouflage_clothes\\\\000906.jpg', 'camo_not_camo\\\\validation\\\\camouflage_clothes\\\\0009064.jpg', 'camo_not_camo\\\\validation\\\\camouflage_clothes\\\\0009078.jpg', 'camo_not_camo\\\\validation\\\\camouflage_clothes\\\\0009094.jpg', 'camo_not_camo\\\\validation\\\\camouflage_clothes\\\\0009097.jpg', 'camo_not_camo\\\\validation\\\\camouflage_clothes\\\\0009130.jpg', 'camo_not_camo\\\\validation\\\\camouflage_clothes\\\\0009133.jpg', 'camo_not_camo\\\\validation\\\\camouflage_clothes\\\\0009148.jpg', 'camo_not_camo\\\\validation\\\\camouflage_clothes\\\\0009168.jpg', 'camo_not_camo\\\\validation\\\\camouflage_clothes\\\\000918.jpg', 'camo_not_camo\\\\validation\\\\camouflage_clothes\\\\0009189.jpg', 'camo_not_camo\\\\validation\\\\camouflage_clothes\\\\000919.jpg', 'camo_not_camo\\\\validation\\\\camouflage_clothes\\\\000924.jpg', 'camo_not_camo\\\\validation\\\\camouflage_clothes\\\\0009241.jpg', 'camo_not_camo\\\\validation\\\\camouflage_clothes\\\\0009244.jpg', 'camo_not_camo\\\\validation\\\\camouflage_clothes\\\\0009248.jpg', 'camo_not_camo\\\\validation\\\\camouflage_clothes\\\\0009256.jpg', 'camo_not_camo\\\\validation\\\\camouflage_clothes\\\\0009273.jpg', 'camo_not_camo\\\\validation\\\\camouflage_clothes\\\\0009274.jpg', 'camo_not_camo\\\\validation\\\\camouflage_clothes\\\\0009276.jpg', 'camo_not_camo\\\\validation\\\\camouflage_clothes\\\\0009299.jpg', 'camo_not_camo\\\\validation\\\\camouflage_clothes\\\\0009302.jpg', 'camo_not_camo\\\\validation\\\\camouflage_clothes\\\\0009303.jpg', 'camo_not_camo\\\\validation\\\\camouflage_clothes\\\\0009344.jpg', 'camo_not_camo\\\\validation\\\\camouflage_clothes\\\\0009346.jpg', 'camo_not_camo\\\\validation\\\\camouflage_clothes\\\\0009349.jpg', 'camo_not_camo\\\\validation\\\\camouflage_clothes\\\\0009351.jpg', 'camo_not_camo\\\\validation\\\\camouflage_clothes\\\\0009357.jpg', 'camo_not_camo\\\\validation\\\\camouflage_clothes\\\\0009364.jpg', 'camo_not_camo\\\\validation\\\\camouflage_clothes\\\\0009368.jpg', 'camo_not_camo\\\\validation\\\\camouflage_clothes\\\\0009371.jpg', 'camo_not_camo\\\\validation\\\\camouflage_clothes\\\\0009395.jpg', 'camo_not_camo\\\\validation\\\\camouflage_clothes\\\\0009407.jpg', 'camo_not_camo\\\\validation\\\\camouflage_clothes\\\\0009427.jpg', 'camo_not_camo\\\\validation\\\\camouflage_clothes\\\\0009464.jpg', 'camo_not_camo\\\\validation\\\\camouflage_clothes\\\\000949.jpg', 'camo_not_camo\\\\validation\\\\camouflage_clothes\\\\0009517.jpg', 'camo_not_camo\\\\validation\\\\camouflage_clothes\\\\0009522.jpg', 'camo_not_camo\\\\validation\\\\camouflage_clothes\\\\0009523.jpg', 'camo_not_camo\\\\validation\\\\camouflage_clothes\\\\0009533.jpg', 'camo_not_camo\\\\validation\\\\camouflage_clothes\\\\0009541.jpg', 'camo_not_camo\\\\validation\\\\camouflage_clothes\\\\0009546.jpg', 'camo_not_camo\\\\validation\\\\camouflage_clothes\\\\0009577.jpg', 'camo_not_camo\\\\validation\\\\camouflage_clothes\\\\0009588.jpg', 'camo_not_camo\\\\validation\\\\camouflage_clothes\\\\0009597.jpg', 'camo_not_camo\\\\validation\\\\camouflage_clothes\\\\0009601.jpg', 'camo_not_camo\\\\validation\\\\camouflage_clothes\\\\000963.jpg', 'camo_not_camo\\\\validation\\\\camouflage_clothes\\\\0009641.jpg', 'camo_not_camo\\\\validation\\\\camouflage_clothes\\\\0009655.jpg', 'camo_not_camo\\\\validation\\\\camouflage_clothes\\\\0009686.jpg', 'camo_not_camo\\\\validation\\\\camouflage_clothes\\\\000969.jpg', 'camo_not_camo\\\\validation\\\\camouflage_clothes\\\\0009692.jpg', 'camo_not_camo\\\\validation\\\\camouflage_clothes\\\\0009693.jpg', 'camo_not_camo\\\\validation\\\\camouflage_clothes\\\\0009698.jpg', 'camo_not_camo\\\\validation\\\\camouflage_clothes\\\\0009714.jpg', 'camo_not_camo\\\\validation\\\\camouflage_clothes\\\\0009723.jpg', 'camo_not_camo\\\\validation\\\\camouflage_clothes\\\\0009765.jpg', 'camo_not_camo\\\\validation\\\\camouflage_clothes\\\\0009787.jpg', 'camo_not_camo\\\\validation\\\\camouflage_clothes\\\\0009801.jpg', 'camo_not_camo\\\\validation\\\\camouflage_clothes\\\\0009840.jpg', 'camo_not_camo\\\\validation\\\\camouflage_clothes\\\\0009852.jpg', 'camo_not_camo\\\\validation\\\\camouflage_clothes\\\\0009853.jpg', 'camo_not_camo\\\\validation\\\\camouflage_clothes\\\\0009866.jpg', 'camo_not_camo\\\\validation\\\\camouflage_clothes\\\\0009880.jpg', 'camo_not_camo\\\\validation\\\\camouflage_clothes\\\\000989.jpg', 'camo_not_camo\\\\validation\\\\camouflage_clothes\\\\0009898.jpg', 'camo_not_camo\\\\validation\\\\camouflage_clothes\\\\0009916.jpg', 'camo_not_camo\\\\validation\\\\camouflage_clothes\\\\0009927.jpg', 'camo_not_camo\\\\validation\\\\camouflage_clothes\\\\0009935.jpg', 'camo_not_camo\\\\validation\\\\camouflage_clothes\\\\0009977.jpg', 'camo_not_camo\\\\validation\\\\camouflage_clothes\\\\000998.jpg', 'camo_not_camo\\\\validation\\\\normal_clothes\\\\00010073.jpg', 'camo_not_camo\\\\validation\\\\normal_clothes\\\\00010074.jpg', 'camo_not_camo\\\\validation\\\\normal_clothes\\\\000101.jpg', 'camo_not_camo\\\\validation\\\\normal_clothes\\\\0001012.jpg', 'camo_not_camo\\\\validation\\\\normal_clothes\\\\0001045.jpg', 'camo_not_camo\\\\validation\\\\normal_clothes\\\\000105.jpg', 'camo_not_camo\\\\validation\\\\normal_clothes\\\\000106.jpg', 'camo_not_camo\\\\validation\\\\normal_clothes\\\\0001088.jpg', 'camo_not_camo\\\\validation\\\\normal_clothes\\\\0001098.jpg', 'camo_not_camo\\\\validation\\\\normal_clothes\\\\0001110.jpg', 'camo_not_camo\\\\validation\\\\normal_clothes\\\\0001111.jpg', 'camo_not_camo\\\\validation\\\\normal_clothes\\\\0001128.jpg', 'camo_not_camo\\\\validation\\\\normal_clothes\\\\000113.jpg', 'camo_not_camo\\\\validation\\\\normal_clothes\\\\0001144.jpg', 'camo_not_camo\\\\validation\\\\normal_clothes\\\\0001150.jpg', 'camo_not_camo\\\\validation\\\\normal_clothes\\\\0001169.jpg', 'camo_not_camo\\\\validation\\\\normal_clothes\\\\0001174.jpg', 'camo_not_camo\\\\validation\\\\normal_clothes\\\\0001243.jpg', 'camo_not_camo\\\\validation\\\\normal_clothes\\\\0001246.jpg', 'camo_not_camo\\\\validation\\\\normal_clothes\\\\0001340.jpg', 'camo_not_camo\\\\validation\\\\normal_clothes\\\\0001377.jpg', 'camo_not_camo\\\\validation\\\\normal_clothes\\\\0001396.jpg', 'camo_not_camo\\\\validation\\\\normal_clothes\\\\0001400.jpg', 'camo_not_camo\\\\validation\\\\normal_clothes\\\\0001409.jpg', 'camo_not_camo\\\\validation\\\\normal_clothes\\\\0001418.jpg', 'camo_not_camo\\\\validation\\\\normal_clothes\\\\0001422.jpg', 'camo_not_camo\\\\validation\\\\normal_clothes\\\\0001436.jpg', 'camo_not_camo\\\\validation\\\\normal_clothes\\\\0001450.jpg', 'camo_not_camo\\\\validation\\\\normal_clothes\\\\0001458.jpg', 'camo_not_camo\\\\validation\\\\normal_clothes\\\\0001465.jpg', 'camo_not_camo\\\\validation\\\\normal_clothes\\\\0001466.jpg', 'camo_not_camo\\\\validation\\\\normal_clothes\\\\0001476.jpg', 'camo_not_camo\\\\validation\\\\normal_clothes\\\\000148.jpg', 'camo_not_camo\\\\validation\\\\normal_clothes\\\\0001481.jpg', 'camo_not_camo\\\\validation\\\\normal_clothes\\\\0001550.jpg', 'camo_not_camo\\\\validation\\\\normal_clothes\\\\0001564.jpg', 'camo_not_camo\\\\validation\\\\normal_clothes\\\\0001581.jpg', 'camo_not_camo\\\\validation\\\\normal_clothes\\\\0001594.jpg', 'camo_not_camo\\\\validation\\\\normal_clothes\\\\000161.jpg', 'camo_not_camo\\\\validation\\\\normal_clothes\\\\0001614.jpg', 'camo_not_camo\\\\validation\\\\normal_clothes\\\\0001636.jpg', 'camo_not_camo\\\\validation\\\\normal_clothes\\\\0001643.jpg', 'camo_not_camo\\\\validation\\\\normal_clothes\\\\000169.jpg', 'camo_not_camo\\\\validation\\\\normal_clothes\\\\0001706.jpg', 'camo_not_camo\\\\validation\\\\normal_clothes\\\\0001734.jpg', 'camo_not_camo\\\\validation\\\\normal_clothes\\\\0001742.jpg', 'camo_not_camo\\\\validation\\\\normal_clothes\\\\0001749.jpg', 'camo_not_camo\\\\validation\\\\normal_clothes\\\\000175.jpg', 'camo_not_camo\\\\validation\\\\normal_clothes\\\\0001767.jpg', 'camo_not_camo\\\\validation\\\\normal_clothes\\\\000179.jpg', 'camo_not_camo\\\\validation\\\\normal_clothes\\\\000180.jpg', 'camo_not_camo\\\\validation\\\\normal_clothes\\\\0001817.jpg', 'camo_not_camo\\\\validation\\\\normal_clothes\\\\0001827.jpg', 'camo_not_camo\\\\validation\\\\normal_clothes\\\\000187.jpg', 'camo_not_camo\\\\validation\\\\normal_clothes\\\\0001897.jpg', 'camo_not_camo\\\\validation\\\\normal_clothes\\\\000190.jpg', 'camo_not_camo\\\\validation\\\\normal_clothes\\\\0001920.jpg', 'camo_not_camo\\\\validation\\\\normal_clothes\\\\0001921.jpg', 'camo_not_camo\\\\validation\\\\normal_clothes\\\\0001930.jpg', 'camo_not_camo\\\\validation\\\\normal_clothes\\\\0001942.jpg', 'camo_not_camo\\\\validation\\\\normal_clothes\\\\0001972.jpg', 'camo_not_camo\\\\validation\\\\normal_clothes\\\\0001988.jpg', 'camo_not_camo\\\\validation\\\\normal_clothes\\\\0001995.jpg', 'camo_not_camo\\\\validation\\\\normal_clothes\\\\0001996.jpg', 'camo_not_camo\\\\validation\\\\normal_clothes\\\\0002020.jpg', 'camo_not_camo\\\\validation\\\\normal_clothes\\\\0002021.jpg', 'camo_not_camo\\\\validation\\\\normal_clothes\\\\0002023.jpg', 'camo_not_camo\\\\validation\\\\normal_clothes\\\\0002026.jpg', 'camo_not_camo\\\\validation\\\\normal_clothes\\\\0002058.jpg', 'camo_not_camo\\\\validation\\\\normal_clothes\\\\0002061.jpg', 'camo_not_camo\\\\validation\\\\normal_clothes\\\\0002098.jpg', 'camo_not_camo\\\\validation\\\\normal_clothes\\\\0002123.jpg', 'camo_not_camo\\\\validation\\\\normal_clothes\\\\0002124.jpg', 'camo_not_camo\\\\validation\\\\normal_clothes\\\\0002155.jpg', 'camo_not_camo\\\\validation\\\\normal_clothes\\\\0002164.jpg', 'camo_not_camo\\\\validation\\\\normal_clothes\\\\0002167.jpg', 'camo_not_camo\\\\validation\\\\normal_clothes\\\\0002173.jpg', 'camo_not_camo\\\\validation\\\\normal_clothes\\\\0002176.jpg', 'camo_not_camo\\\\validation\\\\normal_clothes\\\\0002178.jpg', 'camo_not_camo\\\\validation\\\\normal_clothes\\\\0002179.jpg', 'camo_not_camo\\\\validation\\\\normal_clothes\\\\0002228.jpg', 'camo_not_camo\\\\validation\\\\normal_clothes\\\\0002247.jpg', 'camo_not_camo\\\\validation\\\\normal_clothes\\\\0002253.jpg', 'camo_not_camo\\\\validation\\\\normal_clothes\\\\0002269.jpg', 'camo_not_camo\\\\validation\\\\normal_clothes\\\\0002281.jpg', 'camo_not_camo\\\\validation\\\\normal_clothes\\\\0002303.jpg', 'camo_not_camo\\\\validation\\\\normal_clothes\\\\0002313.jpg', 'camo_not_camo\\\\validation\\\\normal_clothes\\\\0002331.jpg', 'camo_not_camo\\\\validation\\\\normal_clothes\\\\0002342.jpg', 'camo_not_camo\\\\validation\\\\normal_clothes\\\\0002386.jpg', 'camo_not_camo\\\\validation\\\\normal_clothes\\\\000240.jpg', 'camo_not_camo\\\\validation\\\\normal_clothes\\\\0002435.jpg', 'camo_not_camo\\\\validation\\\\normal_clothes\\\\0002438.jpg', 'camo_not_camo\\\\validation\\\\normal_clothes\\\\0002470.jpg', 'camo_not_camo\\\\validation\\\\normal_clothes\\\\0002490.jpg', 'camo_not_camo\\\\validation\\\\normal_clothes\\\\0002491.jpg', 'camo_not_camo\\\\validation\\\\normal_clothes\\\\0002493.jpg', 'camo_not_camo\\\\validation\\\\normal_clothes\\\\0002527.jpg', 'camo_not_camo\\\\validation\\\\normal_clothes\\\\0002535.jpg', 'camo_not_camo\\\\validation\\\\normal_clothes\\\\0002541.jpg', 'camo_not_camo\\\\validation\\\\normal_clothes\\\\0002554.jpg', 'camo_not_camo\\\\validation\\\\normal_clothes\\\\0002559.jpg', 'camo_not_camo\\\\validation\\\\normal_clothes\\\\0002583.jpg', 'camo_not_camo\\\\validation\\\\normal_clothes\\\\0002603.jpg', 'camo_not_camo\\\\validation\\\\normal_clothes\\\\0002621.jpg', 'camo_not_camo\\\\validation\\\\normal_clothes\\\\0002632.jpg', 'camo_not_camo\\\\validation\\\\normal_clothes\\\\0002645.jpg', 'camo_not_camo\\\\validation\\\\normal_clothes\\\\0002666.jpg', 'camo_not_camo\\\\validation\\\\normal_clothes\\\\0002672.jpg', 'camo_not_camo\\\\validation\\\\normal_clothes\\\\0002673.jpg', 'camo_not_camo\\\\validation\\\\normal_clothes\\\\000268.jpg', 'camo_not_camo\\\\validation\\\\normal_clothes\\\\0002723.jpg', 'camo_not_camo\\\\validation\\\\normal_clothes\\\\0002734.jpg', 'camo_not_camo\\\\validation\\\\normal_clothes\\\\0002768.jpg', 'camo_not_camo\\\\validation\\\\normal_clothes\\\\0002769.jpg', 'camo_not_camo\\\\validation\\\\normal_clothes\\\\0002770.jpg', 'camo_not_camo\\\\validation\\\\normal_clothes\\\\0002782.jpg', 'camo_not_camo\\\\validation\\\\normal_clothes\\\\0002802.jpg', 'camo_not_camo\\\\validation\\\\normal_clothes\\\\0002805.jpg', 'camo_not_camo\\\\validation\\\\normal_clothes\\\\0002809.jpg', 'camo_not_camo\\\\validation\\\\normal_clothes\\\\0002835.jpg', 'camo_not_camo\\\\validation\\\\normal_clothes\\\\0002853.jpg', 'camo_not_camo\\\\validation\\\\normal_clothes\\\\0002873.jpg', 'camo_not_camo\\\\validation\\\\normal_clothes\\\\0002887.jpg', 'camo_not_camo\\\\validation\\\\normal_clothes\\\\0002890.jpg', 'camo_not_camo\\\\validation\\\\normal_clothes\\\\0002896.jpg', 'camo_not_camo\\\\validation\\\\normal_clothes\\\\0002904.jpg', 'camo_not_camo\\\\validation\\\\normal_clothes\\\\0002905.jpg', 'camo_not_camo\\\\validation\\\\normal_clothes\\\\0002955.jpg', 'camo_not_camo\\\\validation\\\\normal_clothes\\\\0002959.jpg', 'camo_not_camo\\\\validation\\\\normal_clothes\\\\0002984.jpg', 'camo_not_camo\\\\validation\\\\normal_clothes\\\\00030.jpg', 'camo_not_camo\\\\validation\\\\normal_clothes\\\\0003007.jpg', 'camo_not_camo\\\\validation\\\\normal_clothes\\\\0003024.jpg', 'camo_not_camo\\\\validation\\\\normal_clothes\\\\0003031.jpg', 'camo_not_camo\\\\validation\\\\normal_clothes\\\\0003034.jpg', 'camo_not_camo\\\\validation\\\\normal_clothes\\\\0003036.jpg', 'camo_not_camo\\\\validation\\\\normal_clothes\\\\0003040.jpg', 'camo_not_camo\\\\validation\\\\normal_clothes\\\\0003052.jpg', 'camo_not_camo\\\\validation\\\\normal_clothes\\\\0003068.jpg', 'camo_not_camo\\\\validation\\\\normal_clothes\\\\0003088.jpg', 'camo_not_camo\\\\validation\\\\normal_clothes\\\\0003089.jpg', 'camo_not_camo\\\\validation\\\\normal_clothes\\\\0003099.jpg', 'camo_not_camo\\\\validation\\\\normal_clothes\\\\0003103.jpg', 'camo_not_camo\\\\validation\\\\normal_clothes\\\\0003108.jpg', 'camo_not_camo\\\\validation\\\\normal_clothes\\\\0003110.jpg', 'camo_not_camo\\\\validation\\\\normal_clothes\\\\0003124.jpg', 'camo_not_camo\\\\validation\\\\normal_clothes\\\\0003132.jpg', 'camo_not_camo\\\\validation\\\\normal_clothes\\\\0003148.jpg', 'camo_not_camo\\\\validation\\\\normal_clothes\\\\0003155.jpg', 'camo_not_camo\\\\validation\\\\normal_clothes\\\\0003163.jpg', 'camo_not_camo\\\\validation\\\\normal_clothes\\\\0003168.jpg', 'camo_not_camo\\\\validation\\\\normal_clothes\\\\0003196.jpg', 'camo_not_camo\\\\validation\\\\normal_clothes\\\\0003220.jpg', 'camo_not_camo\\\\validation\\\\normal_clothes\\\\0003226.jpg', 'camo_not_camo\\\\validation\\\\normal_clothes\\\\0003240.jpg', 'camo_not_camo\\\\validation\\\\normal_clothes\\\\0003243.jpg', 'camo_not_camo\\\\validation\\\\normal_clothes\\\\0003262.jpg', 'camo_not_camo\\\\validation\\\\normal_clothes\\\\0003303.jpg', 'camo_not_camo\\\\validation\\\\normal_clothes\\\\0003316.jpg', 'camo_not_camo\\\\validation\\\\normal_clothes\\\\0003321.jpg', 'camo_not_camo\\\\validation\\\\normal_clothes\\\\0003324.jpg', 'camo_not_camo\\\\validation\\\\normal_clothes\\\\0003327.jpg', 'camo_not_camo\\\\validation\\\\normal_clothes\\\\0003328.jpg', 'camo_not_camo\\\\validation\\\\normal_clothes\\\\000333.jpg', 'camo_not_camo\\\\validation\\\\normal_clothes\\\\0003347.jpg', 'camo_not_camo\\\\validation\\\\normal_clothes\\\\0003366.jpg', 'camo_not_camo\\\\validation\\\\normal_clothes\\\\0003373.jpg', 'camo_not_camo\\\\validation\\\\normal_clothes\\\\00034.jpg', 'camo_not_camo\\\\validation\\\\normal_clothes\\\\0003403.jpg', 'camo_not_camo\\\\validation\\\\normal_clothes\\\\000341.jpg', 'camo_not_camo\\\\validation\\\\normal_clothes\\\\0003413.jpg', 'camo_not_camo\\\\validation\\\\normal_clothes\\\\0003424.jpg', 'camo_not_camo\\\\validation\\\\normal_clothes\\\\0003427.jpg', 'camo_not_camo\\\\validation\\\\normal_clothes\\\\0003428.jpg', 'camo_not_camo\\\\validation\\\\normal_clothes\\\\0003451.jpg', 'camo_not_camo\\\\validation\\\\normal_clothes\\\\0003452.jpg', 'camo_not_camo\\\\validation\\\\normal_clothes\\\\0003453.jpg', 'camo_not_camo\\\\validation\\\\normal_clothes\\\\0003460.jpg', 'camo_not_camo\\\\validation\\\\normal_clothes\\\\000350.jpg', 'camo_not_camo\\\\validation\\\\normal_clothes\\\\0003530.jpg', 'camo_not_camo\\\\validation\\\\normal_clothes\\\\0003565.jpg', 'camo_not_camo\\\\validation\\\\normal_clothes\\\\0003568.jpg', 'camo_not_camo\\\\validation\\\\normal_clothes\\\\0003573.jpg', 'camo_not_camo\\\\validation\\\\normal_clothes\\\\0003575.jpg', 'camo_not_camo\\\\validation\\\\normal_clothes\\\\00036.jpg', 'camo_not_camo\\\\validation\\\\normal_clothes\\\\000360.jpg', 'camo_not_camo\\\\validation\\\\normal_clothes\\\\0003603.jpg', 'camo_not_camo\\\\validation\\\\normal_clothes\\\\0003609.jpg', 'camo_not_camo\\\\validation\\\\normal_clothes\\\\0003613.jpg', 'camo_not_camo\\\\validation\\\\normal_clothes\\\\0003625.jpg', 'camo_not_camo\\\\validation\\\\normal_clothes\\\\0003631.jpg', 'camo_not_camo\\\\validation\\\\normal_clothes\\\\0003637.jpg', 'camo_not_camo\\\\validation\\\\normal_clothes\\\\0003639.jpg', 'camo_not_camo\\\\validation\\\\normal_clothes\\\\0003651.jpg', 'camo_not_camo\\\\validation\\\\normal_clothes\\\\0003660.jpg', 'camo_not_camo\\\\validation\\\\normal_clothes\\\\0003662.jpg', 'camo_not_camo\\\\validation\\\\normal_clothes\\\\0003676.jpg', 'camo_not_camo\\\\validation\\\\normal_clothes\\\\0003693.jpg', 'camo_not_camo\\\\validation\\\\normal_clothes\\\\00037.jpg', 'camo_not_camo\\\\validation\\\\normal_clothes\\\\0003700.jpg', 'camo_not_camo\\\\validation\\\\normal_clothes\\\\0003704.jpg', 'camo_not_camo\\\\validation\\\\normal_clothes\\\\000374.jpg', 'camo_not_camo\\\\validation\\\\normal_clothes\\\\0003746.jpg', 'camo_not_camo\\\\validation\\\\normal_clothes\\\\0003747.jpg', 'camo_not_camo\\\\validation\\\\normal_clothes\\\\0003803.jpg', 'camo_not_camo\\\\validation\\\\normal_clothes\\\\0003813.jpg', 'camo_not_camo\\\\validation\\\\normal_clothes\\\\0003832.jpg', 'camo_not_camo\\\\validation\\\\normal_clothes\\\\0003862.jpg', 'camo_not_camo\\\\validation\\\\normal_clothes\\\\0003878.jpg', 'camo_not_camo\\\\validation\\\\normal_clothes\\\\0003927.jpg', 'camo_not_camo\\\\validation\\\\normal_clothes\\\\0003937.jpg', 'camo_not_camo\\\\validation\\\\normal_clothes\\\\0003944.jpg', 'camo_not_camo\\\\validation\\\\normal_clothes\\\\0003953.jpg', 'camo_not_camo\\\\validation\\\\normal_clothes\\\\0003975.jpg', 'camo_not_camo\\\\validation\\\\normal_clothes\\\\0003983.jpg', 'camo_not_camo\\\\validation\\\\normal_clothes\\\\0004019.jpg', 'camo_not_camo\\\\validation\\\\normal_clothes\\\\0004041.jpg', 'camo_not_camo\\\\validation\\\\normal_clothes\\\\0004054.jpg', 'camo_not_camo\\\\validation\\\\normal_clothes\\\\0004073.jpg', 'camo_not_camo\\\\validation\\\\normal_clothes\\\\0004077.jpg', 'camo_not_camo\\\\validation\\\\normal_clothes\\\\0004086.jpg', 'camo_not_camo\\\\validation\\\\normal_clothes\\\\000413.jpg', 'camo_not_camo\\\\validation\\\\normal_clothes\\\\0004142.jpg', 'camo_not_camo\\\\validation\\\\normal_clothes\\\\0004150.jpg', 'camo_not_camo\\\\validation\\\\normal_clothes\\\\0004152.jpg', 'camo_not_camo\\\\validation\\\\normal_clothes\\\\0004163.jpg', 'camo_not_camo\\\\validation\\\\normal_clothes\\\\0004193.jpg', 'camo_not_camo\\\\validation\\\\normal_clothes\\\\0004196.jpg', 'camo_not_camo\\\\validation\\\\normal_clothes\\\\0004203.jpg', 'camo_not_camo\\\\validation\\\\normal_clothes\\\\0004212.jpg', 'camo_not_camo\\\\validation\\\\normal_clothes\\\\0004220.jpg', 'camo_not_camo\\\\validation\\\\normal_clothes\\\\0004225.jpg', 'camo_not_camo\\\\validation\\\\normal_clothes\\\\0004252.jpg', 'camo_not_camo\\\\validation\\\\normal_clothes\\\\0004288.jpg', 'camo_not_camo\\\\validation\\\\normal_clothes\\\\0004319.jpg', 'camo_not_camo\\\\validation\\\\normal_clothes\\\\0004368.jpg', 'camo_not_camo\\\\validation\\\\normal_clothes\\\\0004374.jpg', 'camo_not_camo\\\\validation\\\\normal_clothes\\\\0004395.jpg', 'camo_not_camo\\\\validation\\\\normal_clothes\\\\0004398.jpg', 'camo_not_camo\\\\validation\\\\normal_clothes\\\\0004437.jpg', 'camo_not_camo\\\\validation\\\\normal_clothes\\\\0004441.jpg', 'camo_not_camo\\\\validation\\\\normal_clothes\\\\0004467.jpg', 'camo_not_camo\\\\validation\\\\normal_clothes\\\\0004475.jpg', 'camo_not_camo\\\\validation\\\\normal_clothes\\\\0004480.jpg', 'camo_not_camo\\\\validation\\\\normal_clothes\\\\0004482.jpg', 'camo_not_camo\\\\validation\\\\normal_clothes\\\\0004494.jpg', 'camo_not_camo\\\\validation\\\\normal_clothes\\\\0004508.jpg', 'camo_not_camo\\\\validation\\\\normal_clothes\\\\0004534.jpg', 'camo_not_camo\\\\validation\\\\normal_clothes\\\\0004544.jpg', 'camo_not_camo\\\\validation\\\\normal_clothes\\\\0004559.jpg', 'camo_not_camo\\\\validation\\\\normal_clothes\\\\0004584.jpg', 'camo_not_camo\\\\validation\\\\normal_clothes\\\\0004587.jpg', 'camo_not_camo\\\\validation\\\\normal_clothes\\\\000459.jpg', 'camo_not_camo\\\\validation\\\\normal_clothes\\\\0004597.jpg', 'camo_not_camo\\\\validation\\\\normal_clothes\\\\000460.jpg', 'camo_not_camo\\\\validation\\\\normal_clothes\\\\0004605.jpg', 'camo_not_camo\\\\validation\\\\normal_clothes\\\\0004610.jpg', 'camo_not_camo\\\\validation\\\\normal_clothes\\\\0004611.jpg', 'camo_not_camo\\\\validation\\\\normal_clothes\\\\0004619.jpg', 'camo_not_camo\\\\validation\\\\normal_clothes\\\\0004620.jpg', 'camo_not_camo\\\\validation\\\\normal_clothes\\\\0004651.jpg', 'camo_not_camo\\\\validation\\\\normal_clothes\\\\000466.jpg', 'camo_not_camo\\\\validation\\\\normal_clothes\\\\0004660.jpg', 'camo_not_camo\\\\validation\\\\normal_clothes\\\\0004669.jpg', 'camo_not_camo\\\\validation\\\\normal_clothes\\\\0004693.jpg', 'camo_not_camo\\\\validation\\\\normal_clothes\\\\000471.jpg', 'camo_not_camo\\\\validation\\\\normal_clothes\\\\0004727.jpg', 'camo_not_camo\\\\validation\\\\normal_clothes\\\\0004734.jpg', 'camo_not_camo\\\\validation\\\\normal_clothes\\\\0004743.jpg', 'camo_not_camo\\\\validation\\\\normal_clothes\\\\0004749.jpg', 'camo_not_camo\\\\validation\\\\normal_clothes\\\\000476.jpg', 'camo_not_camo\\\\validation\\\\normal_clothes\\\\0004760.jpg', 'camo_not_camo\\\\validation\\\\normal_clothes\\\\0004761.jpg', 'camo_not_camo\\\\validation\\\\normal_clothes\\\\0004775.jpg', 'camo_not_camo\\\\validation\\\\normal_clothes\\\\0004782.jpg', 'camo_not_camo\\\\validation\\\\normal_clothes\\\\000479.jpg', 'camo_not_camo\\\\validation\\\\normal_clothes\\\\0004794.jpg', 'camo_not_camo\\\\validation\\\\normal_clothes\\\\000480.jpg', 'camo_not_camo\\\\validation\\\\normal_clothes\\\\0004816.jpg', 'camo_not_camo\\\\validation\\\\normal_clothes\\\\0004817.jpg', 'camo_not_camo\\\\validation\\\\normal_clothes\\\\0004823.jpg', 'camo_not_camo\\\\validation\\\\normal_clothes\\\\0004825.jpg', 'camo_not_camo\\\\validation\\\\normal_clothes\\\\0004893.jpg', 'camo_not_camo\\\\validation\\\\normal_clothes\\\\0004896.jpg', 'camo_not_camo\\\\validation\\\\normal_clothes\\\\0004899.jpg', 'camo_not_camo\\\\validation\\\\normal_clothes\\\\0004919.jpg', 'camo_not_camo\\\\validation\\\\normal_clothes\\\\0004934.jpg', 'camo_not_camo\\\\validation\\\\normal_clothes\\\\0004950.jpg', 'camo_not_camo\\\\validation\\\\normal_clothes\\\\0004978.jpg', 'camo_not_camo\\\\validation\\\\normal_clothes\\\\000498.jpg', 'camo_not_camo\\\\validation\\\\normal_clothes\\\\000499.jpg', 'camo_not_camo\\\\validation\\\\normal_clothes\\\\0004996.jpg', 'camo_not_camo\\\\validation\\\\normal_clothes\\\\0005001.jpg', 'camo_not_camo\\\\validation\\\\normal_clothes\\\\0005012.jpg', 'camo_not_camo\\\\validation\\\\normal_clothes\\\\0005050.jpg', 'camo_not_camo\\\\validation\\\\normal_clothes\\\\0005051.jpg', 'camo_not_camo\\\\validation\\\\normal_clothes\\\\000506.jpg', 'camo_not_camo\\\\validation\\\\normal_clothes\\\\0005068.jpg', 'camo_not_camo\\\\validation\\\\normal_clothes\\\\0005080.jpg', 'camo_not_camo\\\\validation\\\\normal_clothes\\\\0005086.jpg', 'camo_not_camo\\\\validation\\\\normal_clothes\\\\0005110.jpg', 'camo_not_camo\\\\validation\\\\normal_clothes\\\\0005112.jpg', 'camo_not_camo\\\\validation\\\\normal_clothes\\\\0005136.jpg', 'camo_not_camo\\\\validation\\\\normal_clothes\\\\0005143.jpg', 'camo_not_camo\\\\validation\\\\normal_clothes\\\\0005144.jpg', 'camo_not_camo\\\\validation\\\\normal_clothes\\\\0005169.jpg', 'camo_not_camo\\\\validation\\\\normal_clothes\\\\0005180.jpg', 'camo_not_camo\\\\validation\\\\normal_clothes\\\\0005181.jpg', 'camo_not_camo\\\\validation\\\\normal_clothes\\\\0005193.jpg', 'camo_not_camo\\\\validation\\\\normal_clothes\\\\000520.jpg', 'camo_not_camo\\\\validation\\\\normal_clothes\\\\0005206.jpg', 'camo_not_camo\\\\validation\\\\normal_clothes\\\\0005208.jpg', 'camo_not_camo\\\\validation\\\\normal_clothes\\\\0005221.jpg', 'camo_not_camo\\\\validation\\\\normal_clothes\\\\0005225.jpg', 'camo_not_camo\\\\validation\\\\normal_clothes\\\\0005253.jpg', 'camo_not_camo\\\\validation\\\\normal_clothes\\\\0005283.jpg', 'camo_not_camo\\\\validation\\\\normal_clothes\\\\0005290.jpg', 'camo_not_camo\\\\validation\\\\normal_clothes\\\\0005322.jpg', 'camo_not_camo\\\\validation\\\\normal_clothes\\\\0005326.jpg', 'camo_not_camo\\\\validation\\\\normal_clothes\\\\0005333.jpg', 'camo_not_camo\\\\validation\\\\normal_clothes\\\\0005400.jpg', 'camo_not_camo\\\\validation\\\\normal_clothes\\\\0005408.jpg', 'camo_not_camo\\\\validation\\\\normal_clothes\\\\0005416.jpg', 'camo_not_camo\\\\validation\\\\normal_clothes\\\\0005443.jpg', 'camo_not_camo\\\\validation\\\\normal_clothes\\\\0005451.jpg', 'camo_not_camo\\\\validation\\\\normal_clothes\\\\0005469.jpg', 'camo_not_camo\\\\validation\\\\normal_clothes\\\\0005475.jpg', 'camo_not_camo\\\\validation\\\\normal_clothes\\\\0005480.jpg', 'camo_not_camo\\\\validation\\\\normal_clothes\\\\0005501.jpg', 'camo_not_camo\\\\validation\\\\normal_clothes\\\\0005507.jpg', 'camo_not_camo\\\\validation\\\\normal_clothes\\\\0005541.jpg', 'camo_not_camo\\\\validation\\\\normal_clothes\\\\0005551.jpg', 'camo_not_camo\\\\validation\\\\normal_clothes\\\\0005569.jpg', 'camo_not_camo\\\\validation\\\\normal_clothes\\\\0005586.jpg', 'camo_not_camo\\\\validation\\\\normal_clothes\\\\0005639.jpg', 'camo_not_camo\\\\validation\\\\normal_clothes\\\\0005651.jpg', 'camo_not_camo\\\\validation\\\\normal_clothes\\\\0005667.jpg', 'camo_not_camo\\\\validation\\\\normal_clothes\\\\0005678.jpg', 'camo_not_camo\\\\validation\\\\normal_clothes\\\\0005696.jpg', 'camo_not_camo\\\\validation\\\\normal_clothes\\\\0005707.jpg', 'camo_not_camo\\\\validation\\\\normal_clothes\\\\0005713.jpg', 'camo_not_camo\\\\validation\\\\normal_clothes\\\\000572.jpg', 'camo_not_camo\\\\validation\\\\normal_clothes\\\\0005754.jpg', 'camo_not_camo\\\\validation\\\\normal_clothes\\\\0005764.jpg', 'camo_not_camo\\\\validation\\\\normal_clothes\\\\0005768.jpg', 'camo_not_camo\\\\validation\\\\normal_clothes\\\\0005811.jpg', 'camo_not_camo\\\\validation\\\\normal_clothes\\\\0005815.jpg', 'camo_not_camo\\\\validation\\\\normal_clothes\\\\0005849.jpg', 'camo_not_camo\\\\validation\\\\normal_clothes\\\\0005859.jpg', 'camo_not_camo\\\\validation\\\\normal_clothes\\\\0005861.jpg', 'camo_not_camo\\\\validation\\\\normal_clothes\\\\0005878.jpg', 'camo_not_camo\\\\validation\\\\normal_clothes\\\\0005905.jpg', 'camo_not_camo\\\\validation\\\\normal_clothes\\\\0005912.jpg', 'camo_not_camo\\\\validation\\\\normal_clothes\\\\0005919.jpg', 'camo_not_camo\\\\validation\\\\normal_clothes\\\\0005925.jpg', 'camo_not_camo\\\\validation\\\\normal_clothes\\\\0005934.jpg', 'camo_not_camo\\\\validation\\\\normal_clothes\\\\0005936.jpg', 'camo_not_camo\\\\validation\\\\normal_clothes\\\\0005969.jpg', 'camo_not_camo\\\\validation\\\\normal_clothes\\\\0005972.jpg', 'camo_not_camo\\\\validation\\\\normal_clothes\\\\000598.jpg', 'camo_not_camo\\\\validation\\\\normal_clothes\\\\0005980.jpg', 'camo_not_camo\\\\validation\\\\normal_clothes\\\\0005994.jpg', 'camo_not_camo\\\\validation\\\\normal_clothes\\\\0005996.jpg', 'camo_not_camo\\\\validation\\\\normal_clothes\\\\0006002.jpg', 'camo_not_camo\\\\validation\\\\normal_clothes\\\\0006006.jpg', 'camo_not_camo\\\\validation\\\\normal_clothes\\\\0006021.jpg', 'camo_not_camo\\\\validation\\\\normal_clothes\\\\0006028.jpg', 'camo_not_camo\\\\validation\\\\normal_clothes\\\\0006042.jpg', 'camo_not_camo\\\\validation\\\\normal_clothes\\\\000605.jpg', 'camo_not_camo\\\\validation\\\\normal_clothes\\\\0006060.jpg', 'camo_not_camo\\\\validation\\\\normal_clothes\\\\0006069.jpg', 'camo_not_camo\\\\validation\\\\normal_clothes\\\\0006074.jpg', 'camo_not_camo\\\\validation\\\\normal_clothes\\\\0006076.jpg', 'camo_not_camo\\\\validation\\\\normal_clothes\\\\00061.jpg', 'camo_not_camo\\\\validation\\\\normal_clothes\\\\0006114.jpg', 'camo_not_camo\\\\validation\\\\normal_clothes\\\\0006116.jpg', 'camo_not_camo\\\\validation\\\\normal_clothes\\\\0006118.jpg', 'camo_not_camo\\\\validation\\\\normal_clothes\\\\000612.jpg', 'camo_not_camo\\\\validation\\\\normal_clothes\\\\0006125.jpg', 'camo_not_camo\\\\validation\\\\normal_clothes\\\\0006134.jpg', 'camo_not_camo\\\\validation\\\\normal_clothes\\\\000614.jpg', 'camo_not_camo\\\\validation\\\\normal_clothes\\\\0006166.jpg', 'camo_not_camo\\\\validation\\\\normal_clothes\\\\000618.jpg', 'camo_not_camo\\\\validation\\\\normal_clothes\\\\0006183.jpg', 'camo_not_camo\\\\validation\\\\normal_clothes\\\\0006190.jpg', 'camo_not_camo\\\\validation\\\\normal_clothes\\\\0006200.jpg', 'camo_not_camo\\\\validation\\\\normal_clothes\\\\0006209.jpg', 'camo_not_camo\\\\validation\\\\normal_clothes\\\\0006211.jpg', 'camo_not_camo\\\\validation\\\\normal_clothes\\\\0006216.jpg', 'camo_not_camo\\\\validation\\\\normal_clothes\\\\000625.jpg', 'camo_not_camo\\\\validation\\\\normal_clothes\\\\0006279.jpg', 'camo_not_camo\\\\validation\\\\normal_clothes\\\\0006295.jpg', 'camo_not_camo\\\\validation\\\\normal_clothes\\\\0006297.jpg', 'camo_not_camo\\\\validation\\\\normal_clothes\\\\00063.jpg', 'camo_not_camo\\\\validation\\\\normal_clothes\\\\0006300.jpg', 'camo_not_camo\\\\validation\\\\normal_clothes\\\\0006307.jpg', 'camo_not_camo\\\\validation\\\\normal_clothes\\\\0006317.jpg', 'camo_not_camo\\\\validation\\\\normal_clothes\\\\0006345.jpg', 'camo_not_camo\\\\validation\\\\normal_clothes\\\\0006359.jpg', 'camo_not_camo\\\\validation\\\\normal_clothes\\\\000636.jpg', 'camo_not_camo\\\\validation\\\\normal_clothes\\\\0006376.jpg', 'camo_not_camo\\\\validation\\\\normal_clothes\\\\0006385.jpg', 'camo_not_camo\\\\validation\\\\normal_clothes\\\\0006396.jpg', 'camo_not_camo\\\\validation\\\\normal_clothes\\\\0006469.jpg', 'camo_not_camo\\\\validation\\\\normal_clothes\\\\000647.jpg', 'camo_not_camo\\\\validation\\\\normal_clothes\\\\0006471.jpg', 'camo_not_camo\\\\validation\\\\normal_clothes\\\\0006473.jpg', 'camo_not_camo\\\\validation\\\\normal_clothes\\\\0006483.jpg', 'camo_not_camo\\\\validation\\\\normal_clothes\\\\000650.jpg', 'camo_not_camo\\\\validation\\\\normal_clothes\\\\0006511.jpg', 'camo_not_camo\\\\validation\\\\normal_clothes\\\\0006550.jpg', 'camo_not_camo\\\\validation\\\\normal_clothes\\\\0006556.jpg', 'camo_not_camo\\\\validation\\\\normal_clothes\\\\0006557.jpg', 'camo_not_camo\\\\validation\\\\normal_clothes\\\\0006569.jpg', 'camo_not_camo\\\\validation\\\\normal_clothes\\\\0006575.jpg', 'camo_not_camo\\\\validation\\\\normal_clothes\\\\0006586.jpg', 'camo_not_camo\\\\validation\\\\normal_clothes\\\\0006587.jpg', 'camo_not_camo\\\\validation\\\\normal_clothes\\\\0006594.jpg', 'camo_not_camo\\\\validation\\\\normal_clothes\\\\0006595.jpg', 'camo_not_camo\\\\validation\\\\normal_clothes\\\\0006598.jpg', 'camo_not_camo\\\\validation\\\\normal_clothes\\\\000660.jpg', 'camo_not_camo\\\\validation\\\\normal_clothes\\\\0006608.jpg', 'camo_not_camo\\\\validation\\\\normal_clothes\\\\0006612.jpg', 'camo_not_camo\\\\validation\\\\normal_clothes\\\\0006645.jpg', 'camo_not_camo\\\\validation\\\\normal_clothes\\\\0006690.jpg', 'camo_not_camo\\\\validation\\\\normal_clothes\\\\0006697.jpg', 'camo_not_camo\\\\validation\\\\normal_clothes\\\\0006702.jpg', 'camo_not_camo\\\\validation\\\\normal_clothes\\\\0006718.jpg', 'camo_not_camo\\\\validation\\\\normal_clothes\\\\0006722.jpg', 'camo_not_camo\\\\validation\\\\normal_clothes\\\\0006728.jpg', 'camo_not_camo\\\\validation\\\\normal_clothes\\\\0006758.jpg', 'camo_not_camo\\\\validation\\\\normal_clothes\\\\0006759.jpg', 'camo_not_camo\\\\validation\\\\normal_clothes\\\\0006775.jpg', 'camo_not_camo\\\\validation\\\\normal_clothes\\\\0006779.jpg', 'camo_not_camo\\\\validation\\\\normal_clothes\\\\0006791.jpg', 'camo_not_camo\\\\validation\\\\normal_clothes\\\\0006796.jpg', 'camo_not_camo\\\\validation\\\\normal_clothes\\\\0006818.jpg', 'camo_not_camo\\\\validation\\\\normal_clothes\\\\0006820.jpg', 'camo_not_camo\\\\validation\\\\normal_clothes\\\\0006829.jpg', 'camo_not_camo\\\\validation\\\\normal_clothes\\\\000684.jpg', 'camo_not_camo\\\\validation\\\\normal_clothes\\\\0006851.jpg', 'camo_not_camo\\\\validation\\\\normal_clothes\\\\0006862.jpg', 'camo_not_camo\\\\validation\\\\normal_clothes\\\\0006870.jpg', 'camo_not_camo\\\\validation\\\\normal_clothes\\\\0006896.jpg', 'camo_not_camo\\\\validation\\\\normal_clothes\\\\0006897.jpg', 'camo_not_camo\\\\validation\\\\normal_clothes\\\\0006936.jpg', 'camo_not_camo\\\\validation\\\\normal_clothes\\\\0006939.jpg', 'camo_not_camo\\\\validation\\\\normal_clothes\\\\0006952.jpg', 'camo_not_camo\\\\validation\\\\normal_clothes\\\\0006963.jpg', 'camo_not_camo\\\\validation\\\\normal_clothes\\\\0006964.jpg', 'camo_not_camo\\\\validation\\\\normal_clothes\\\\0006970.jpg', 'camo_not_camo\\\\validation\\\\normal_clothes\\\\0006976.jpg', 'camo_not_camo\\\\validation\\\\normal_clothes\\\\000698.jpg', 'camo_not_camo\\\\validation\\\\normal_clothes\\\\0006997.jpg', 'camo_not_camo\\\\validation\\\\normal_clothes\\\\0007032.jpg', 'camo_not_camo\\\\validation\\\\normal_clothes\\\\0007058.jpg', 'camo_not_camo\\\\validation\\\\normal_clothes\\\\0007077.jpg', 'camo_not_camo\\\\validation\\\\normal_clothes\\\\0007083.jpg', 'camo_not_camo\\\\validation\\\\normal_clothes\\\\0007098.jpg', 'camo_not_camo\\\\validation\\\\normal_clothes\\\\000710.jpg', 'camo_not_camo\\\\validation\\\\normal_clothes\\\\0007105.jpg', 'camo_not_camo\\\\validation\\\\normal_clothes\\\\0007130.jpg', 'camo_not_camo\\\\validation\\\\normal_clothes\\\\0007160.jpg', 'camo_not_camo\\\\validation\\\\normal_clothes\\\\0007167.jpg', 'camo_not_camo\\\\validation\\\\normal_clothes\\\\0007168.jpg', 'camo_not_camo\\\\validation\\\\normal_clothes\\\\0007189.jpg', 'camo_not_camo\\\\validation\\\\normal_clothes\\\\0007190.jpg', 'camo_not_camo\\\\validation\\\\normal_clothes\\\\0007193.jpg', 'camo_not_camo\\\\validation\\\\normal_clothes\\\\0007195.jpg', 'camo_not_camo\\\\validation\\\\normal_clothes\\\\0007201.jpg', 'camo_not_camo\\\\validation\\\\normal_clothes\\\\0007213.jpg', 'camo_not_camo\\\\validation\\\\normal_clothes\\\\0007222.jpg', 'camo_not_camo\\\\validation\\\\normal_clothes\\\\0007224.jpg', 'camo_not_camo\\\\validation\\\\normal_clothes\\\\000723.jpg', 'camo_not_camo\\\\validation\\\\normal_clothes\\\\0007230.jpg', 'camo_not_camo\\\\validation\\\\normal_clothes\\\\0007235.jpg', 'camo_not_camo\\\\validation\\\\normal_clothes\\\\0007267.jpg', 'camo_not_camo\\\\validation\\\\normal_clothes\\\\0007290.jpg', 'camo_not_camo\\\\validation\\\\normal_clothes\\\\00073.jpg', 'camo_not_camo\\\\validation\\\\normal_clothes\\\\0007308.jpg', 'camo_not_camo\\\\validation\\\\normal_clothes\\\\0007339.jpg', 'camo_not_camo\\\\validation\\\\normal_clothes\\\\0007344.jpg', 'camo_not_camo\\\\validation\\\\normal_clothes\\\\0007348.jpg', 'camo_not_camo\\\\validation\\\\normal_clothes\\\\0007349.jpg', 'camo_not_camo\\\\validation\\\\normal_clothes\\\\0007374.jpg', 'camo_not_camo\\\\validation\\\\normal_clothes\\\\0007400.jpg', 'camo_not_camo\\\\validation\\\\normal_clothes\\\\0007417.jpg', 'camo_not_camo\\\\validation\\\\normal_clothes\\\\0007449.jpg', 'camo_not_camo\\\\validation\\\\normal_clothes\\\\000745.jpg', 'camo_not_camo\\\\validation\\\\normal_clothes\\\\0007470.jpg', 'camo_not_camo\\\\validation\\\\normal_clothes\\\\000748.jpg', 'camo_not_camo\\\\validation\\\\normal_clothes\\\\0007487.jpg', 'camo_not_camo\\\\validation\\\\normal_clothes\\\\000749.jpg', 'camo_not_camo\\\\validation\\\\normal_clothes\\\\0007510.jpg', 'camo_not_camo\\\\validation\\\\normal_clothes\\\\0007514.jpg', 'camo_not_camo\\\\validation\\\\normal_clothes\\\\0007520.jpg', 'camo_not_camo\\\\validation\\\\normal_clothes\\\\0007528.jpg', 'camo_not_camo\\\\validation\\\\normal_clothes\\\\0007570.jpg', 'camo_not_camo\\\\validation\\\\normal_clothes\\\\0007589.jpg', 'camo_not_camo\\\\validation\\\\normal_clothes\\\\0007619.jpg', 'camo_not_camo\\\\validation\\\\normal_clothes\\\\000762.jpg', 'camo_not_camo\\\\validation\\\\normal_clothes\\\\0007621.jpg', 'camo_not_camo\\\\validation\\\\normal_clothes\\\\0007647.jpg', 'camo_not_camo\\\\validation\\\\normal_clothes\\\\0007652.jpg', 'camo_not_camo\\\\validation\\\\normal_clothes\\\\0007656.jpg', 'camo_not_camo\\\\validation\\\\normal_clothes\\\\0007679.jpg', 'camo_not_camo\\\\validation\\\\normal_clothes\\\\0007707.jpg', 'camo_not_camo\\\\validation\\\\normal_clothes\\\\0007708.jpg', 'camo_not_camo\\\\validation\\\\normal_clothes\\\\0007734.jpg', 'camo_not_camo\\\\validation\\\\normal_clothes\\\\0007757.jpg', 'camo_not_camo\\\\validation\\\\normal_clothes\\\\0007766.jpg', 'camo_not_camo\\\\validation\\\\normal_clothes\\\\0007776.jpg', 'camo_not_camo\\\\validation\\\\normal_clothes\\\\0007779.jpg', 'camo_not_camo\\\\validation\\\\normal_clothes\\\\0007780.jpg', 'camo_not_camo\\\\validation\\\\normal_clothes\\\\0007856.jpg', 'camo_not_camo\\\\validation\\\\normal_clothes\\\\0007857.jpg', 'camo_not_camo\\\\validation\\\\normal_clothes\\\\0007863.jpg', 'camo_not_camo\\\\validation\\\\normal_clothes\\\\0007870.jpg', 'camo_not_camo\\\\validation\\\\normal_clothes\\\\0007891.jpg', 'camo_not_camo\\\\validation\\\\normal_clothes\\\\0007910.jpg', 'camo_not_camo\\\\validation\\\\normal_clothes\\\\0007922.jpg', 'camo_not_camo\\\\validation\\\\normal_clothes\\\\0007932.jpg', 'camo_not_camo\\\\validation\\\\normal_clothes\\\\0007940.jpg', 'camo_not_camo\\\\validation\\\\normal_clothes\\\\0007976.jpg', 'camo_not_camo\\\\validation\\\\normal_clothes\\\\0007977.jpg', 'camo_not_camo\\\\validation\\\\normal_clothes\\\\0007981.jpg', 'camo_not_camo\\\\validation\\\\normal_clothes\\\\0007985.jpg', 'camo_not_camo\\\\validation\\\\normal_clothes\\\\0008049.jpg', 'camo_not_camo\\\\validation\\\\normal_clothes\\\\000806.jpg', 'camo_not_camo\\\\validation\\\\normal_clothes\\\\0008078.jpg', 'camo_not_camo\\\\validation\\\\normal_clothes\\\\00081.jpg', 'camo_not_camo\\\\validation\\\\normal_clothes\\\\0008116.jpg', 'camo_not_camo\\\\validation\\\\normal_clothes\\\\0008155.jpg', 'camo_not_camo\\\\validation\\\\normal_clothes\\\\000820.jpg', 'camo_not_camo\\\\validation\\\\normal_clothes\\\\0008210.jpg', 'camo_not_camo\\\\validation\\\\normal_clothes\\\\0008237.jpg', 'camo_not_camo\\\\validation\\\\normal_clothes\\\\0008245.jpg', 'camo_not_camo\\\\validation\\\\normal_clothes\\\\000825.jpg', 'camo_not_camo\\\\validation\\\\normal_clothes\\\\0008280.jpg', 'camo_not_camo\\\\validation\\\\normal_clothes\\\\000829.jpg', 'camo_not_camo\\\\validation\\\\normal_clothes\\\\0008303.jpg', 'camo_not_camo\\\\validation\\\\normal_clothes\\\\0008307.jpg', 'camo_not_camo\\\\validation\\\\normal_clothes\\\\0008313.jpg', 'camo_not_camo\\\\validation\\\\normal_clothes\\\\0008317.jpg', 'camo_not_camo\\\\validation\\\\normal_clothes\\\\0008344.jpg', 'camo_not_camo\\\\validation\\\\normal_clothes\\\\0008346.jpg', 'camo_not_camo\\\\validation\\\\normal_clothes\\\\0008367.jpg', 'camo_not_camo\\\\validation\\\\normal_clothes\\\\0008384.jpg', 'camo_not_camo\\\\validation\\\\normal_clothes\\\\0008420.jpg', 'camo_not_camo\\\\validation\\\\normal_clothes\\\\0008425.jpg', 'camo_not_camo\\\\validation\\\\normal_clothes\\\\0008456.jpg', 'camo_not_camo\\\\validation\\\\normal_clothes\\\\0008482.jpg', 'camo_not_camo\\\\validation\\\\normal_clothes\\\\0008483.jpg', 'camo_not_camo\\\\validation\\\\normal_clothes\\\\0008497.jpg', 'camo_not_camo\\\\validation\\\\normal_clothes\\\\0008517.jpg', 'camo_not_camo\\\\validation\\\\normal_clothes\\\\0008518.jpg', 'camo_not_camo\\\\validation\\\\normal_clothes\\\\0008520.jpg', 'camo_not_camo\\\\validation\\\\normal_clothes\\\\0008522.jpg', 'camo_not_camo\\\\validation\\\\normal_clothes\\\\0008535.jpg', 'camo_not_camo\\\\validation\\\\normal_clothes\\\\0008543.jpg', 'camo_not_camo\\\\validation\\\\normal_clothes\\\\0008558.jpg', 'camo_not_camo\\\\validation\\\\normal_clothes\\\\0008565.jpg', 'camo_not_camo\\\\validation\\\\normal_clothes\\\\000857.jpg', 'camo_not_camo\\\\validation\\\\normal_clothes\\\\0008607.jpg', 'camo_not_camo\\\\validation\\\\normal_clothes\\\\0008612.jpg', 'camo_not_camo\\\\validation\\\\normal_clothes\\\\0008625.jpg', 'camo_not_camo\\\\validation\\\\normal_clothes\\\\0008660.jpg', 'camo_not_camo\\\\validation\\\\normal_clothes\\\\0008668.jpg', 'camo_not_camo\\\\validation\\\\normal_clothes\\\\000867.jpg', 'camo_not_camo\\\\validation\\\\normal_clothes\\\\0008674.jpg', 'camo_not_camo\\\\validation\\\\normal_clothes\\\\0008688.jpg', 'camo_not_camo\\\\validation\\\\normal_clothes\\\\000869.jpg', 'camo_not_camo\\\\validation\\\\normal_clothes\\\\0008707.jpg', 'camo_not_camo\\\\validation\\\\normal_clothes\\\\000873.jpg', 'camo_not_camo\\\\validation\\\\normal_clothes\\\\000874.jpg', 'camo_not_camo\\\\validation\\\\normal_clothes\\\\0008747.jpg', 'camo_not_camo\\\\validation\\\\normal_clothes\\\\0008757.jpg', 'camo_not_camo\\\\validation\\\\normal_clothes\\\\000877.jpg', 'camo_not_camo\\\\validation\\\\normal_clothes\\\\0008789.jpg', 'camo_not_camo\\\\validation\\\\normal_clothes\\\\000879.jpg', 'camo_not_camo\\\\validation\\\\normal_clothes\\\\0008797.jpg', 'camo_not_camo\\\\validation\\\\normal_clothes\\\\0008803.jpg', 'camo_not_camo\\\\validation\\\\normal_clothes\\\\0008812.jpg', 'camo_not_camo\\\\validation\\\\normal_clothes\\\\0008825.jpg', 'camo_not_camo\\\\validation\\\\normal_clothes\\\\0008832.jpg', 'camo_not_camo\\\\validation\\\\normal_clothes\\\\0008869.jpg', 'camo_not_camo\\\\validation\\\\normal_clothes\\\\000891.jpg', 'camo_not_camo\\\\validation\\\\normal_clothes\\\\0008910.jpg', 'camo_not_camo\\\\validation\\\\normal_clothes\\\\0008929.jpg', 'camo_not_camo\\\\validation\\\\normal_clothes\\\\0008940.jpg', 'camo_not_camo\\\\validation\\\\normal_clothes\\\\0008947.jpg', 'camo_not_camo\\\\validation\\\\normal_clothes\\\\0008981.jpg', 'camo_not_camo\\\\validation\\\\normal_clothes\\\\0008985.jpg', 'camo_not_camo\\\\validation\\\\normal_clothes\\\\000899.jpg', 'camo_not_camo\\\\validation\\\\normal_clothes\\\\0009067.jpg', 'camo_not_camo\\\\validation\\\\normal_clothes\\\\000914.jpg', 'camo_not_camo\\\\validation\\\\normal_clothes\\\\0009189.jpg', 'camo_not_camo\\\\validation\\\\normal_clothes\\\\000949.jpg', 'camo_not_camo\\\\validation\\\\normal_clothes\\\\0009661.jpg', 'camo_not_camo\\\\validation\\\\normal_clothes\\\\00097.jpg', 'camo_not_camo\\\\validation\\\\normal_clothes\\\\0009988.jpg', 'camo_not_camo\\\\validation\\\\normal_clothes\\\\000999.jpg']\n"
     ]
    }
   ],
   "source": [
    "# construct the argument parser and parse the arguments\n",
    "#ap = argparse.ArgumentParser()\n",
    "#ap.add_argument(\"-p\", \"--plot\", type=str, default=\"plot.png\",\n",
    "#\thelp=\"path to output loss/accuracy plot\")\n",
    "#args = vars(ap.parse_args())\n",
    "\n",
    "# since we are using Jupyter Notebooks we can replace our argument\n",
    "# parsing code with *hard coded* arguments and values\n",
    "args = {\n",
    "\t\"plot\": \"plot.png\"\n",
    "}\n",
    "\n",
    "# determine the total number of image paths in training, validation,\n",
    "# and testing directories\n",
    "totalTrain = len(list(paths.list_images(config.TRAIN_PATH)))\n",
    "totalVal = len(list(paths.list_images(config.VAL_PATH)))\n",
    "totalTest = len(list(paths.list_images(config.TEST_PATH)))\n",
    "print(list(paths.list_images(config.VAL_PATH)))"
   ]
  },
  {
   "cell_type": "code",
   "execution_count": 13,
   "metadata": {},
   "outputs": [],
   "source": [
    "# initialize the training training data augmentation object\n",
    "trainAug = ImageDataGenerator(\n",
    "\trotation_range=25,\n",
    "\tzoom_range=0.1,\n",
    "\twidth_shift_range=0.1,\n",
    "\theight_shift_range=0.1,\n",
    "\tshear_range=0.2,\n",
    "\thorizontal_flip=True,\n",
    "\tfill_mode=\"nearest\")\n",
    "\n",
    "# initialize the validation/testing data augmentation object (which\n",
    "# we'll be adding mean subtraction to)\n",
    "valAug = ImageDataGenerator()\n",
    "\n",
    "# define the ImageNet mean subtraction (in RGB order) and set the\n",
    "# the mean subtraction value for each of the data augmentation\n",
    "# objects\n",
    "mean = np.array([123.68, 116.779, 103.939], dtype=\"float32\")\n",
    "trainAug.mean = mean\n",
    "valAug.mean = mean"
   ]
  },
  {
   "cell_type": "code",
   "execution_count": 14,
   "metadata": {},
   "outputs": [
    {
     "name": "stdout",
     "output_type": "stream",
     "text": [
      "Found 10731 images belonging to 2 classes.\n",
      "Found 1192 images belonging to 2 classes.\n",
      "Found 3975 images belonging to 2 classes.\n"
     ]
    }
   ],
   "source": [
    "# initialize the training generator\n",
    "trainGen = trainAug.flow_from_directory(\n",
    "\tconfig.TRAIN_PATH,\n",
    "\tclass_mode=\"categorical\",\n",
    "\ttarget_size=(224, 224),\n",
    "\tcolor_mode=\"rgb\",\n",
    "\tshuffle=True,\n",
    "\tbatch_size=config.BS)\n",
    "\n",
    "# initialize the validation generator\n",
    "valGen = valAug.flow_from_directory(\n",
    "\tconfig.VAL_PATH,\n",
    "\tclass_mode=\"categorical\",\n",
    "\ttarget_size=(224, 224),\n",
    "\tcolor_mode=\"rgb\",\n",
    "\tshuffle=False,\n",
    "\tbatch_size=config.BS)\n",
    "\n",
    "# initialize the testing generator\n",
    "testGen = valAug.flow_from_directory(\n",
    "\tconfig.TEST_PATH,\n",
    "\tclass_mode=\"categorical\",\n",
    "\ttarget_size=(224, 224),\n",
    "\tcolor_mode=\"rgb\",\n",
    "\tshuffle=False,\n",
    "\tbatch_size=config.BS)"
   ]
  },
  {
   "cell_type": "code",
   "execution_count": 26,
   "metadata": {},
   "outputs": [
    {
     "name": "stdout",
     "output_type": "stream",
     "text": [
      "[INFO] preparing model...\n"
     ]
    }
   ],
   "source": [
    "# load the ResNet-50 network, ensuring the head FC layer sets are left\n",
    "# off\n",
    "print(\"[INFO] preparing model...\")\n",
    "baseModel = ResNet50(weights=\"imagenet\", include_top=False,\n",
    "\tinput_tensor=Input(shape=(224, 224, 3)))\n",
    "\n",
    "# construct the head of the model that will be placed on top of the\n",
    "# the base model\n",
    "headModel = baseModel.output\n",
    "headModel = AveragePooling2D(pool_size=(7, 7))(headModel)\n",
    "headModel = Flatten(name=\"flatten\")(headModel)\n",
    "headModel = Dense(256, activation=\"relu\")(headModel)\n",
    "headModel = Dropout(0.5)(headModel)\n",
    "headModel = Dense(len(config.CLASSES), activation=\"softmax\")(headModel)\n",
    "\n",
    "# place the head FC model on top of the base model (this will become\n",
    "# the actual model we will train)\n",
    "model = Model(inputs=baseModel.input, outputs=headModel)\n",
    "\n",
    "# loop over all layers in the base model and freeze them so they will\n",
    "# *not* be updated during the training process\n",
    "for layer in baseModel.layers:\n",
    "\tlayer.trainable = False"
   ]
  },
  {
   "cell_type": "code",
   "execution_count": 27,
   "metadata": {},
   "outputs": [],
   "source": [
    "filepath=\"weights-improvement-{epoch:02d}-{val_accuracy:.2f}.hdf5\"\n",
    "model_checkpoint_callback = ModelCheckpoint(os.path.sep.join([config.CHECKPOINT_PATH, filepath]), monitor='val_accuracy',verbose=1, \n",
    "                            save_best_only=True)"
   ]
  },
  {
   "cell_type": "code",
   "execution_count": 28,
   "metadata": {},
   "outputs": [
    {
     "name": "stdout",
     "output_type": "stream",
     "text": [
      "[INFO] training model...\n",
      "Epoch 1/20\n",
      "335/335 [==============================] - ETA: 0s - loss: 0.1789 - accuracy: 0.9279\n",
      "Epoch 00001: val_accuracy improved from -inf to 0.97466, saving model to output\\checkpoint\\weights-improvement-01-0.97.hdf5\n",
      "335/335 [==============================] - 349s 1s/step - loss: 0.1789 - accuracy: 0.9279 - val_loss: 0.0642 - val_accuracy: 0.9747\n",
      "Epoch 2/20\n",
      "335/335 [==============================] - ETA: 0s - loss: 0.0836 - accuracy: 0.9701\n",
      "Epoch 00002: val_accuracy improved from 0.97466 to 0.98311, saving model to output\\checkpoint\\weights-improvement-02-0.98.hdf5\n",
      "335/335 [==============================] - 320s 956ms/step - loss: 0.0836 - accuracy: 0.9701 - val_loss: 0.0512 - val_accuracy: 0.9831\n",
      "Epoch 3/20\n",
      "335/335 [==============================] - ETA: 0s - loss: 0.0702 - accuracy: 0.9760\n",
      "Epoch 00003: val_accuracy improved from 0.98311 to 0.98395, saving model to output\\checkpoint\\weights-improvement-03-0.98.hdf5\n",
      "335/335 [==============================] - 319s 952ms/step - loss: 0.0702 - accuracy: 0.9760 - val_loss: 0.0453 - val_accuracy: 0.9840\n",
      "Epoch 4/20\n",
      "335/335 [==============================] - ETA: 0s - loss: 0.0579 - accuracy: 0.9797\n",
      "Epoch 00004: val_accuracy improved from 0.98395 to 0.98564, saving model to output\\checkpoint\\weights-improvement-04-0.99.hdf5\n",
      "335/335 [==============================] - 318s 949ms/step - loss: 0.0579 - accuracy: 0.9797 - val_loss: 0.0381 - val_accuracy: 0.9856\n",
      "Epoch 5/20\n",
      "335/335 [==============================] - ETA: 0s - loss: 0.0520 - accuracy: 0.9807\n",
      "Epoch 00005: val_accuracy did not improve from 0.98564\n",
      "335/335 [==============================] - 317s 947ms/step - loss: 0.0520 - accuracy: 0.9807 - val_loss: 0.0392 - val_accuracy: 0.9806\n",
      "Epoch 6/20\n",
      "335/335 [==============================] - ETA: 0s - loss: 0.0484 - accuracy: 0.9846\n",
      "Epoch 00006: val_accuracy improved from 0.98564 to 0.98986, saving model to output\\checkpoint\\weights-improvement-06-0.99.hdf5\n",
      "335/335 [==============================] - 332s 990ms/step - loss: 0.0484 - accuracy: 0.9846 - val_loss: 0.0335 - val_accuracy: 0.9899\n",
      "Epoch 7/20\n",
      "335/335 [==============================] - ETA: 0s - loss: 0.0427 - accuracy: 0.9855\n",
      "Epoch 00007: val_accuracy did not improve from 0.98986\n",
      "335/335 [==============================] - 318s 949ms/step - loss: 0.0427 - accuracy: 0.9855 - val_loss: 0.0317 - val_accuracy: 0.9899\n",
      "Epoch 8/20\n",
      "335/335 [==============================] - ETA: 0s - loss: 0.0423 - accuracy: 0.9849\n",
      "Epoch 00008: val_accuracy improved from 0.98986 to 0.99240, saving model to output\\checkpoint\\weights-improvement-08-0.99.hdf5\n",
      "335/335 [==============================] - 319s 952ms/step - loss: 0.0423 - accuracy: 0.9849 - val_loss: 0.0299 - val_accuracy: 0.9924\n",
      "Epoch 9/20\n",
      "335/335 [==============================] - ETA: 0s - loss: 0.0402 - accuracy: 0.9857\n",
      "Epoch 00009: val_accuracy did not improve from 0.99240\n",
      "335/335 [==============================] - 319s 953ms/step - loss: 0.0402 - accuracy: 0.9857 - val_loss: 0.0293 - val_accuracy: 0.9882\n",
      "Epoch 10/20\n",
      "335/335 [==============================] - ETA: 0s - loss: 0.0378 - accuracy: 0.9865\n",
      "Epoch 00010: val_accuracy did not improve from 0.99240\n",
      "335/335 [==============================] - 329s 982ms/step - loss: 0.0378 - accuracy: 0.9865 - val_loss: 0.0306 - val_accuracy: 0.9873\n",
      "Epoch 11/20\n",
      "335/335 [==============================] - ETA: 0s - loss: 0.0325 - accuracy: 0.9887\n",
      "Epoch 00011: val_accuracy did not improve from 0.99240\n",
      "335/335 [==============================] - 321s 960ms/step - loss: 0.0325 - accuracy: 0.9887 - val_loss: 0.0343 - val_accuracy: 0.9865\n",
      "Epoch 12/20\n",
      "335/335 [==============================] - ETA: 0s - loss: 0.0295 - accuracy: 0.9899\n",
      "Epoch 00012: val_accuracy did not improve from 0.99240\n",
      "335/335 [==============================] - 323s 964ms/step - loss: 0.0295 - accuracy: 0.9899 - val_loss: 0.0296 - val_accuracy: 0.9890\n",
      "Epoch 13/20\n",
      "335/335 [==============================] - ETA: 0s - loss: 0.0322 - accuracy: 0.9878\n",
      "Epoch 00013: val_accuracy did not improve from 0.99240\n",
      "335/335 [==============================] - 321s 960ms/step - loss: 0.0322 - accuracy: 0.9878 - val_loss: 0.0407 - val_accuracy: 0.9848\n",
      "Epoch 14/20\n",
      "335/335 [==============================] - ETA: 0s - loss: 0.0269 - accuracy: 0.9907\n",
      "Epoch 00014: val_accuracy did not improve from 0.99240\n",
      "335/335 [==============================] - 327s 977ms/step - loss: 0.0269 - accuracy: 0.9907 - val_loss: 0.0318 - val_accuracy: 0.9873\n",
      "Epoch 15/20\n",
      "335/335 [==============================] - ETA: 0s - loss: 0.0230 - accuracy: 0.9917\n",
      "Epoch 00015: val_accuracy did not improve from 0.99240\n",
      "335/335 [==============================] - 327s 977ms/step - loss: 0.0230 - accuracy: 0.9917 - val_loss: 0.0303 - val_accuracy: 0.9907\n",
      "Epoch 16/20\n",
      "335/335 [==============================] - ETA: 0s - loss: 0.0245 - accuracy: 0.9907\n",
      "Epoch 00016: val_accuracy did not improve from 0.99240\n",
      "335/335 [==============================] - 322s 961ms/step - loss: 0.0245 - accuracy: 0.9907 - val_loss: 0.0349 - val_accuracy: 0.9899\n",
      "Epoch 17/20\n",
      "335/335 [==============================] - ETA: 0s - loss: 0.0265 - accuracy: 0.9893\n",
      "Epoch 00017: val_accuracy did not improve from 0.99240\n",
      "335/335 [==============================] - 324s 967ms/step - loss: 0.0265 - accuracy: 0.9893 - val_loss: 0.0315 - val_accuracy: 0.9907\n",
      "Epoch 18/20\n",
      "335/335 [==============================] - ETA: 0s - loss: 0.0229 - accuracy: 0.9912\n",
      "Epoch 00018: val_accuracy did not improve from 0.99240\n",
      "335/335 [==============================] - 323s 965ms/step - loss: 0.0229 - accuracy: 0.9912 - val_loss: 0.0323 - val_accuracy: 0.9899\n",
      "Epoch 19/20\n",
      "335/335 [==============================] - ETA: 0s - loss: 0.0210 - accuracy: 0.9920\n",
      "Epoch 00019: val_accuracy did not improve from 0.99240\n",
      "335/335 [==============================] - 323s 966ms/step - loss: 0.0210 - accuracy: 0.9920 - val_loss: 0.0343 - val_accuracy: 0.9899\n",
      "Epoch 20/20\n",
      "335/335 [==============================] - ETA: 0s - loss: 0.0246 - accuracy: 0.9908\n",
      "Epoch 00020: val_accuracy did not improve from 0.99240\n",
      "335/335 [==============================] - 323s 963ms/step - loss: 0.0246 - accuracy: 0.9908 - val_loss: 0.0260 - val_accuracy: 0.9907\n"
     ]
    }
   ],
   "source": [
    "# compile the model\n",
    "opt = Adam(lr=config.INIT_LR, decay=config.INIT_LR / config.NUM_EPOCHS)\n",
    "model.compile(loss=\"binary_crossentropy\", optimizer=opt,\n",
    "\tmetrics=[\"accuracy\"])\n",
    "\n",
    "# train the model\n",
    "print(\"[INFO] training model...\")\n",
    "history = model.fit(\n",
    "\ttrainGen,\n",
    "\tsteps_per_epoch=totalTrain // config.BS,\n",
    "\tvalidation_data=valGen,\n",
    "\tvalidation_steps=totalVal // config.BS,\n",
    "\tepochs=config.NUM_EPOCHS,\n",
    "    callbacks=[model_checkpoint_callback],\n",
    "    initial_epoch=0)"
   ]
  },
  {
   "cell_type": "code",
   "execution_count": 29,
   "metadata": {},
   "outputs": [
    {
     "name": "stdout",
     "output_type": "stream",
     "text": [
      "[INFO] saving model...\n"
     ]
    }
   ],
   "source": [
    "# serialize the model to disk\n",
    "print(\"[INFO] saving model...\")\n",
    "model.save(config.MODEL_PATH, save_format=\"h5\")"
   ]
  },
  {
   "cell_type": "code",
   "execution_count": 30,
   "metadata": {},
   "outputs": [],
   "source": [
    "class History_trained_model(object):\n",
    "    def __init__(self, history, epoch, params):\n",
    "        self.history = history\n",
    "        self.epoch = epoch\n",
    "        self.params = params"
   ]
  },
  {
   "cell_type": "code",
   "execution_count": 31,
   "metadata": {},
   "outputs": [],
   "source": [
    "with open(os.path.sep.join([config.HISTORY_PATH, \"train_history_dict\"]), 'wb') as file_pi:\n",
    "    model_history= History_trained_model(history.history, history.epoch, history.params)\n",
    "    pickle.dump(model_history, file_pi, pickle.HIGHEST_PROTOCOL)"
   ]
  },
  {
   "cell_type": "markdown",
   "metadata": {},
   "source": [
    "## Below is for loading and using models and history"
   ]
  },
  {
   "cell_type": "code",
   "execution_count": 33,
   "metadata": {},
   "outputs": [],
   "source": [
    "new_model = load_model(os.path.sep.join([config.CHECKPOINT_PATH, 'weights-improvement-08-0.99.hdf5']))\n",
    "# new_model = load_model(config.MODEL_PATH)"
   ]
  },
  {
   "cell_type": "code",
   "execution_count": 34,
   "metadata": {},
   "outputs": [
    {
     "name": "stdout",
     "output_type": "stream",
     "text": [
      "[[8.3005807e-06 9.9999166e-01]]\n",
      "[1]\n"
     ]
    }
   ],
   "source": [
    "from tensorflow.keras.preprocessing.image import load_img\n",
    "from tensorflow.keras.preprocessing.image import img_to_array\n",
    "def load_image(img_path, show=False):\n",
    "\n",
    "    img = load_img(img_path, target_size=(224, 224))\n",
    "    img_tensor = img_to_array(img)                    # (height, width, channels)\n",
    "    img_tensor = np.expand_dims(img_tensor, axis=0)         # (1, height, width, channels), add a dimension because the model expects this shape: (batch_size, height, width, channels)\n",
    "    # img_tensor /= 255.                                      # imshow expects values in the range [0, 1]\n",
    "\n",
    "    if show:\n",
    "        plt.imshow(img_tensor[0])                           \n",
    "        plt.axis('off')\n",
    "        plt.show()\n",
    "\n",
    "    return img_tensor\n",
    "\n",
    "\n",
    "# load the image\n",
    "image_path = os.path.sep.join([config.BASE_PATH, \"testing\", \"normal_clothes\", \"0001259.jpg\"])\n",
    "img = load_image(image_path)\n",
    "my_predIdxs = new_model.predict(img)\n",
    "print(my_predIdxs)\n",
    "print(np.argmax(my_predIdxs, axis=1))"
   ]
  },
  {
   "cell_type": "code",
   "execution_count": 35,
   "metadata": {},
   "outputs": [
    {
     "name": "stdout",
     "output_type": "stream",
     "text": [
      "{'loss': [0.1788967102766037, 0.08356530964374542, 0.07021885365247726, 0.057898323982954025, 0.05197785794734955, 0.048379071056842804, 0.04265613481402397, 0.04227304831147194, 0.04019457846879959, 0.03777886927127838, 0.0324525460600853, 0.029481256380677223, 0.03215213492512703, 0.026869792491197586, 0.02298523485660553, 0.024533431977033615, 0.02645966224372387, 0.02287336252629757, 0.021012958139181137, 0.024574970826506615], 'accuracy': [0.9279372096061707, 0.9700906872749329, 0.9759790897369385, 0.9797177314758301, 0.9807458519935608, 0.984578013420105, 0.9855126738548279, 0.9848583936691284, 0.9856995940208435, 0.9865407943725586, 0.9886905550956726, 0.989905595779419, 0.9878493547439575, 0.990746796131134, 0.9916814565658569, 0.990746796131134, 0.9893447756767273, 0.9912141561508179, 0.9919618368148804, 0.9908402562141418], 'val_loss': [0.06415538489818573, 0.05119192972779274, 0.04530121013522148, 0.03812612220644951, 0.039226509630680084, 0.03350593522191048, 0.03166748210787773, 0.029857667163014412, 0.029261350631713867, 0.03056872822344303, 0.03431268781423569, 0.029622633010149002, 0.040691398084163666, 0.03175818547606468, 0.030257830396294594, 0.03487392142415047, 0.03154033422470093, 0.03232499584555626, 0.03433685004711151, 0.025983618572354317], 'val_accuracy': [0.974662184715271, 0.9831081032752991, 0.9839527010917664, 0.9856418967247009, 0.9805743098258972, 0.9898648858070374, 0.9898648858070374, 0.9923986196517944, 0.9881756901741028, 0.9873310923576355, 0.9864864945411682, 0.9890202879905701, 0.9847972989082336, 0.9873310923576355, 0.9907094836235046, 0.9898648858070374, 0.9907094836235046, 0.9898648858070374, 0.9898648858070374, 0.9907094836235046]}\n"
     ]
    }
   ],
   "source": [
    "with open(os.path.sep.join([config.HISTORY_PATH, \"train_history_dict\"]), 'rb') as file_pi:\n",
    "    new_history = pickle.load(file_pi)\n",
    "print(new_history.history)"
   ]
  },
  {
   "cell_type": "code",
   "execution_count": null,
   "metadata": {},
   "outputs": [],
   "source": []
  }
 ],
 "metadata": {
  "kernelspec": {
   "display_name": "cnn_env",
   "language": "python",
   "name": "cnn_env"
  },
  "language_info": {
   "codemirror_mode": {
    "name": "ipython",
    "version": 3
   },
   "file_extension": ".py",
   "mimetype": "text/x-python",
   "name": "python",
   "nbconvert_exporter": "python",
   "pygments_lexer": "ipython3",
   "version": "3.7.10"
  }
 },
 "nbformat": 4,
 "nbformat_minor": 4
}
